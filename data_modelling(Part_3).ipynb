{
  "nbformat": 4,
  "nbformat_minor": 0,
  "metadata": {
    "colab": {
      "name": "data modelling(Part 3).ipynb",
      "version": "0.3.2",
      "provenance": [],
      "collapsed_sections": []
    },
    "kernelspec": {
      "name": "python3",
      "display_name": "Python 3"
    }
  },
  "cells": [
    {
      "metadata": {
        "id": "qPQhZN8gWdKk",
        "colab_type": "text"
      },
      "cell_type": "markdown",
      "source": [
        "Importing necesssary files"
      ]
    },
    {
      "metadata": {
        "id": "Z07zWyEv30mp",
        "colab_type": "code",
        "outputId": "492e77bc-f166-4df9-8e63-211fc17a530e",
        "colab": {
          "base_uri": "https://localhost:8080/",
          "height": 235
        }
      },
      "cell_type": "code",
      "source": [
        "!pip install nsepy\n",
        "import pandas as pd\n",
        "import numpy as np\n",
        "import matplotlib.pyplot as plt\n",
        "%matplotlib inline\n",
        "import nsepy\n",
        "from datetime import date"
      ],
      "execution_count": 79,
      "outputs": [
        {
          "output_type": "stream",
          "text": [
            "Requirement already satisfied: nsepy in /usr/local/lib/python3.6/dist-packages (0.7)\n",
            "Requirement already satisfied: requests in /usr/local/lib/python3.6/dist-packages (from nsepy) (2.18.4)\n",
            "Requirement already satisfied: six in /usr/local/lib/python3.6/dist-packages (from nsepy) (1.11.0)\n",
            "Requirement already satisfied: beautifulsoup4 in /usr/local/lib/python3.6/dist-packages (from nsepy) (4.6.3)\n",
            "Requirement already satisfied: numpy in /usr/local/lib/python3.6/dist-packages (from nsepy) (1.14.6)\n",
            "Requirement already satisfied: pandas in /usr/local/lib/python3.6/dist-packages (from nsepy) (0.22.0)\n",
            "Requirement already satisfied: click in /usr/local/lib/python3.6/dist-packages (from nsepy) (7.0)\n",
            "Requirement already satisfied: urllib3<1.23,>=1.21.1 in /usr/local/lib/python3.6/dist-packages (from requests->nsepy) (1.22)\n",
            "Requirement already satisfied: chardet<3.1.0,>=3.0.2 in /usr/local/lib/python3.6/dist-packages (from requests->nsepy) (3.0.4)\n",
            "Requirement already satisfied: idna<2.7,>=2.5 in /usr/local/lib/python3.6/dist-packages (from requests->nsepy) (2.6)\n",
            "Requirement already satisfied: certifi>=2017.4.17 in /usr/local/lib/python3.6/dist-packages (from requests->nsepy) (2018.11.29)\n",
            "Requirement already satisfied: pytz>=2011k in /usr/local/lib/python3.6/dist-packages (from pandas->nsepy) (2018.9)\n",
            "Requirement already satisfied: python-dateutil>=2 in /usr/local/lib/python3.6/dist-packages (from pandas->nsepy) (2.5.3)\n"
          ],
          "name": "stdout"
        }
      ]
    },
    {
      "metadata": {
        "id": "wDC4iIG9WhBa",
        "colab_type": "text"
      },
      "cell_type": "markdown",
      "source": [
        "Getting data"
      ]
    },
    {
      "metadata": {
        "id": "VYbO94mO35TH",
        "colab_type": "code",
        "colab": {}
      },
      "cell_type": "code",
      "source": [
        "infy_df = nsepy.get_history(symbol='INFY',\n",
        "                    start=date(2015,1,1), \n",
        "                    end=date(2015,12,31))"
      ],
      "execution_count": 0,
      "outputs": []
    },
    {
      "metadata": {
        "id": "oXhCz46m38qt",
        "colab_type": "code",
        "outputId": "1f4db87c-a0f9-469c-ad5c-a8b67a8fbe40",
        "colab": {
          "base_uri": "https://localhost:8080/",
          "height": 34
        }
      },
      "cell_type": "code",
      "source": [
        "infy_df.index = pd.to_datetime(infy_df.index)\n",
        "print(type(infy_df.index))"
      ],
      "execution_count": 81,
      "outputs": [
        {
          "output_type": "stream",
          "text": [
            "<class 'pandas.core.indexes.datetimes.DatetimeIndex'>\n"
          ],
          "name": "stdout"
        }
      ]
    },
    {
      "metadata": {
        "id": "IHBiI7xFWjc-",
        "colab_type": "text"
      },
      "cell_type": "markdown",
      "source": [
        "Feature Extraction"
      ]
    },
    {
      "metadata": {
        "id": "MabniyhU4M01",
        "colab_type": "code",
        "colab": {}
      },
      "cell_type": "code",
      "source": [
        "import re\n",
        "def add_datepart(df, fldname, drop=True, time=False):\n",
        "    \"Helper function that adds columns relevant to a date.\"\n",
        "    fld = df[fldname]\n",
        "    fld_dtype = fld.dtype\n",
        "    if isinstance(fld_dtype, pd.core.dtypes.dtypes.DatetimeTZDtype):\n",
        "        fld_dtype = np.datetime64\n",
        "\n",
        "    if not np.issubdtype(fld_dtype, np.datetime64):\n",
        "        df[fldname] = fld = pd.to_datetime(fld, infer_datetime_format=True)\n",
        "    targ_pre = re.sub('[Dd]ate$', '', fldname)\n",
        "    attr = ['Year', 'Month', 'Week', 'Day', 'Dayofweek', 'Dayofyear',\n",
        "            'Is_month_end', 'Is_month_start', 'Is_quarter_end', 'Is_quarter_start', 'Is_year_end', 'Is_year_start']\n",
        "    if time: attr = attr + ['Hour', 'Minute', 'Second']\n",
        "    for n in attr: df[targ_pre + n] = getattr(fld.dt, n.lower()).astype(np.int64)\n",
        "    if drop: df.drop(fldname, axis=1, inplace=True)"
      ],
      "execution_count": 0,
      "outputs": []
    },
    {
      "metadata": {
        "id": "xxSzFDd7Wnnf",
        "colab_type": "text"
      },
      "cell_type": "markdown",
      "source": [
        "Data preprocessing and scaling"
      ]
    },
    {
      "metadata": {
        "id": "nAqBUxdX5xgJ",
        "colab_type": "code",
        "outputId": "89417821-374e-42da-f049-f6277cfd285b",
        "colab": {
          "base_uri": "https://localhost:8080/",
          "height": 104
        }
      },
      "cell_type": "code",
      "source": [
        "infy_df['Date'] = infy_df.index\n",
        "add_datepart(infy_df, 'Date')\n",
        "\n",
        "X = infy_df.drop(['Close','Symbol','Series'],axis = 1)\n",
        "y = infy_df['Close']\n",
        "\n",
        "from sklearn.preprocessing import StandardScaler\n",
        "scaler = StandardScaler()\n",
        "X = scaler.fit_transform(X)"
      ],
      "execution_count": 83,
      "outputs": [
        {
          "output_type": "stream",
          "text": [
            "/usr/local/lib/python3.6/dist-packages/sklearn/preprocessing/data.py:625: DataConversionWarning: Data with input dtype int64, float64 were all converted to float64 by StandardScaler.\n",
            "  return self.partial_fit(X, y)\n",
            "/usr/local/lib/python3.6/dist-packages/sklearn/base.py:462: DataConversionWarning: Data with input dtype int64, float64 were all converted to float64 by StandardScaler.\n",
            "  return self.fit(X, **fit_params).transform(X)\n"
          ],
          "name": "stderr"
        }
      ]
    },
    {
      "metadata": {
        "id": "pO9wsQrEWr1T",
        "colab_type": "text"
      },
      "cell_type": "markdown",
      "source": [
        "Train and Test Split"
      ]
    },
    {
      "metadata": {
        "id": "fwxmdghX6wfr",
        "colab_type": "code",
        "colab": {}
      },
      "cell_type": "code",
      "source": [
        "from sklearn.model_selection import train_test_split\n",
        "X_train, X_test, y_train, y_test = train_test_split(X, y, test_size=0.20, random_state=42)"
      ],
      "execution_count": 0,
      "outputs": []
    },
    {
      "metadata": {
        "id": "mHXSZeV79f8e",
        "colab_type": "code",
        "colab": {}
      },
      "cell_type": "code",
      "source": [
        "def mean_absolute_percentage_error(y_true, y_pred): \n",
        "    y_true, y_pred = np.array(y_true), np.array(y_pred)\n",
        "    return np.mean(np.abs((y_true - y_pred) / y_true)) * 100"
      ],
      "execution_count": 0,
      "outputs": []
    },
    {
      "metadata": {
        "id": "qYEQDMwJ9b5f",
        "colab_type": "text"
      },
      "cell_type": "markdown",
      "source": [
        "### Linear Regression (Tuned)"
      ]
    },
    {
      "metadata": {
        "id": "IaRTQE0P834Z",
        "colab_type": "code",
        "colab": {}
      },
      "cell_type": "code",
      "source": [
        "#implement linear regression\n",
        "from sklearn.linear_model import LinearRegression\n",
        "model = LinearRegression()\n",
        "model.fit(X_train,y_train)\n",
        "#make predictions and find the rmse\n",
        "preds = model.predict(X_test)"
      ],
      "execution_count": 0,
      "outputs": []
    },
    {
      "metadata": {
        "id": "aBAfEx4n9QKu",
        "colab_type": "code",
        "outputId": "3f0d9f20-8b68-4c6e-db07-dc4bae2b597a",
        "colab": {
          "base_uri": "https://localhost:8080/",
          "height": 34
        }
      },
      "cell_type": "code",
      "source": [
        "print(mean_absolute_percentage_error(y_test, preds))"
      ],
      "execution_count": 87,
      "outputs": [
        {
          "output_type": "stream",
          "text": [
            "0.13281184206483762\n"
          ],
          "name": "stdout"
        }
      ]
    },
    {
      "metadata": {
        "id": "_2YmU7Zm9ub7",
        "colab_type": "text"
      },
      "cell_type": "markdown",
      "source": [
        "### Lasso Regression"
      ]
    },
    {
      "metadata": {
        "id": "owTdSQyQ9HIF",
        "colab_type": "code",
        "outputId": "53162964-f8fa-4693-c497-057cc75ecb20",
        "colab": {
          "base_uri": "https://localhost:8080/",
          "height": 34
        }
      },
      "cell_type": "code",
      "source": [
        "from sklearn import linear_model\n",
        "reg = linear_model.LassoLars(alpha=0.01)\n",
        "reg.fit(X_train,y_train)\n",
        "#make predictions and find the rmse\n",
        "preds_lasso = reg.predict(X_test)\n",
        "print(mean_absolute_percentage_error(y_test, preds_lasso))"
      ],
      "execution_count": 88,
      "outputs": [
        {
          "output_type": "stream",
          "text": [
            "0.14827695429380905\n"
          ],
          "name": "stdout"
        }
      ]
    },
    {
      "metadata": {
        "id": "3XByF1wk-NP_",
        "colab_type": "text"
      },
      "cell_type": "markdown",
      "source": [
        "### Quick build SVM"
      ]
    },
    {
      "metadata": {
        "id": "f3e___e9-Q5Y",
        "colab_type": "code",
        "outputId": "f7a38b4f-c2f2-46b1-a79d-02be465f68f0",
        "colab": {
          "base_uri": "https://localhost:8080/",
          "height": 34
        }
      },
      "cell_type": "code",
      "source": [
        "from sklearn.model_selection import GridSearchCV\n",
        "from sklearn import svm\n",
        "svc = svm.SVR(gamma=\"scale\")\n",
        "parameters = {'kernel':('linear', 'rbf'), 'C':[0.001,0.01,0.1,1,10],'epsilon':[0.01,0.1]}\n",
        "clf = GridSearchCV(svc, parameters, cv=3)\n",
        "clf.fit(X_train,y_train)\n",
        "#make predictions and find the rmse\n",
        "preds_clf = clf.predict(X_test)\n",
        "print(mean_absolute_percentage_error(y_test, preds_clf), clf.best_params_)"
      ],
      "execution_count": 89,
      "outputs": [
        {
          "output_type": "stream",
          "text": [
            "0.5496229595695824 {'C': 10, 'epsilon': 0.1, 'kernel': 'linear'}\n"
          ],
          "name": "stdout"
        }
      ]
    },
    {
      "metadata": {
        "id": "ireAhv9yR8Ow",
        "colab_type": "text"
      },
      "cell_type": "markdown",
      "source": [
        "#### Prove your model does not violate any basic assumption: for Linear Regression"
      ]
    },
    {
      "metadata": {
        "id": "qk2prp6q-zX4",
        "colab_type": "code",
        "colab": {}
      },
      "cell_type": "code",
      "source": [
        "import statsmodels\n",
        "import seaborn as sns\n",
        "from matplotlib import pyplot as plt\n",
        "%matplotlib inline"
      ],
      "execution_count": 0,
      "outputs": []
    },
    {
      "metadata": {
        "id": "SsP9XCnRSaoL",
        "colab_type": "text"
      },
      "cell_type": "markdown",
      "source": [
        "### Linearity & Equal variance\n",
        "Both can be tested by plotting residuals vs. predictions, where residuals are prediction errors"
      ]
    },
    {
      "metadata": {
        "id": "pqJmLhy4SFaU",
        "colab_type": "code",
        "outputId": "1f8ecef1-380d-4a91-d570-aeca1455044c",
        "colab": {
          "base_uri": "https://localhost:8080/",
          "height": 184
        }
      },
      "cell_type": "code",
      "source": [
        "residual = y_test - preds\n",
        "fig, ax = plt.subplots(figsize=(6,2.5))\n",
        "_ = ax.scatter(residual, preds)"
      ],
      "execution_count": 91,
      "outputs": [
        {
          "output_type": "display_data",
          "data": {
            "image/png": "[encoded data removed]",
            "text/plain": [
              "<Figure size 432x180 with 1 Axes>"
            ]
          },
          "metadata": {
            "tags": []
          }
        }
      ]
    },
    {
      "metadata": {
        "id": "Ywbu3v3NTMUP",
        "colab_type": "text"
      },
      "cell_type": "markdown",
      "source": [
        "#### Normality\n",
        "We can apply normal probability plot to assess how the data (error) depart from normality visually"
      ]
    },
    {
      "metadata": {
        "id": "ZvHVl36PTJDJ",
        "colab_type": "code",
        "outputId": "f873495f-061f-4be2-b24f-036798ee5cb7",
        "colab": {
          "base_uri": "https://localhost:8080/",
          "height": 230
        }
      },
      "cell_type": "code",
      "source": [
        "import scipy as sp\n",
        "fig, ax = plt.subplots(figsize=(6,2.5))\n",
        "_, (__, ___, r) = sp.stats.probplot(residual, plot=ax, fit=True)\n",
        "r**2"
      ],
      "execution_count": 92,
      "outputs": [
        {
          "output_type": "execute_result",
          "data": {
            "text/plain": [
              "0.9361996090695328"
            ]
          },
          "metadata": {
            "tags": []
          },
          "execution_count": 92
        },
        {
          "output_type": "display_data",
          "data": {
            "image/png": "[encoded data removed]",
            "text/plain": [
              "<Figure size 432x180 with 1 Axes>"
            ]
          },
          "metadata": {
            "tags": []
          }
        }
      ]
    },
    {
      "metadata": {
        "id": "BKV_cAR7Td2z",
        "colab_type": "text"
      },
      "cell_type": "markdown",
      "source": [
        "The good fit indicates that normality is a reasonable approximation.\n"
      ]
    },
    {
      "metadata": {
        "id": "PluApylOTyH_",
        "colab_type": "text"
      },
      "cell_type": "markdown",
      "source": [
        "### Select best performing model, and tune it - Demonstrate that your tuning has resulted in a clear difference between quick build and tuning.\n",
        "\n",
        "Ans: There is a considerable deifference in MAPE of Quick Buid SVM and Tuned Linear Regression"
      ]
    }
  ]
}