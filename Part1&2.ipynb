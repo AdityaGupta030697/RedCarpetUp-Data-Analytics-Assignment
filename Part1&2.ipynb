{
  "nbformat": 4,
  "nbformat_minor": 0,
  "metadata": {
    "colab": {
      "name": "TimeSeries.ipynb",
      "version": "0.3.2",
      "provenance": [],
      "collapsed_sections": []
    },
    "kernelspec": {
      "name": "python3",
      "display_name": "Python 3"
    }
  },
  "cells": [
    {
      "metadata": {
        "id": "0lEVahTrZnns",
        "colab_type": "text"
      },
      "cell_type": "markdown",
      "source": [
        "### Part 1 (Tool: Google Colab)"
      ]
    },
    {
      "metadata": {
        "id": "752JXq9eVY5E",
        "colab_type": "text"
      },
      "cell_type": "markdown",
      "source": [
        "Install nsepy"
      ]
    },
    {
      "metadata": {
        "id": "maNOUsvfzgsH",
        "colab_type": "code",
        "outputId": "c9011cfe-d019-40c1-bb15-fdff052d7088",
        "colab": {
          "base_uri": "https://localhost:8080/",
          "height": 235
        }
      },
      "cell_type": "code",
      "source": [
        "!pip install nsepy"
      ],
      "execution_count": 0,
      "outputs": [
        {
          "output_type": "stream",
          "text": [
            "Requirement already satisfied: nsepy in /usr/local/lib/python3.6/dist-packages (0.7)\n",
            "Requirement already satisfied: beautifulsoup4 in /usr/local/lib/python3.6/dist-packages (from nsepy) (4.6.3)\n",
            "Requirement already satisfied: click in /usr/local/lib/python3.6/dist-packages (from nsepy) (7.0)\n",
            "Requirement already satisfied: requests in /usr/local/lib/python3.6/dist-packages (from nsepy) (2.18.4)\n",
            "Requirement already satisfied: pandas in /usr/local/lib/python3.6/dist-packages (from nsepy) (0.22.0)\n",
            "Requirement already satisfied: six in /usr/local/lib/python3.6/dist-packages (from nsepy) (1.11.0)\n",
            "Requirement already satisfied: numpy in /usr/local/lib/python3.6/dist-packages (from nsepy) (1.14.6)\n",
            "Requirement already satisfied: chardet<3.1.0,>=3.0.2 in /usr/local/lib/python3.6/dist-packages (from requests->nsepy) (3.0.4)\n",
            "Requirement already satisfied: certifi>=2017.4.17 in /usr/local/lib/python3.6/dist-packages (from requests->nsepy) (2018.11.29)\n",
            "Requirement already satisfied: urllib3<1.23,>=1.21.1 in /usr/local/lib/python3.6/dist-packages (from requests->nsepy) (1.22)\n",
            "Requirement already satisfied: idna<2.7,>=2.5 in /usr/local/lib/python3.6/dist-packages (from requests->nsepy) (2.6)\n",
            "Requirement already satisfied: pytz>=2011k in /usr/local/lib/python3.6/dist-packages (from pandas->nsepy) (2018.9)\n",
            "Requirement already satisfied: python-dateutil>=2 in /usr/local/lib/python3.6/dist-packages (from pandas->nsepy) (2.5.3)\n"
          ],
          "name": "stdout"
        }
      ]
    },
    {
      "metadata": {
        "id": "AiXQZTmiVYN3",
        "colab_type": "text"
      },
      "cell_type": "markdown",
      "source": [
        "importing necessary libraries"
      ]
    },
    {
      "metadata": {
        "id": "5c_zbZ1ozt5N",
        "colab_type": "code",
        "colab": {}
      },
      "cell_type": "code",
      "source": [
        "import pandas as pd\n",
        "import numpy as np\n",
        "import matplotlib.pyplot as plt\n",
        "%matplotlib inline\n",
        "import nsepy\n",
        "from datetime import date"
      ],
      "execution_count": 0,
      "outputs": []
    },
    {
      "metadata": {
        "id": "2F9UnwCYVgIx",
        "colab_type": "text"
      },
      "cell_type": "markdown",
      "source": [
        "Downloading data"
      ]
    },
    {
      "metadata": {
        "id": "rJrD3Lqcz66t",
        "colab_type": "code",
        "colab": {}
      },
      "cell_type": "code",
      "source": [
        "infy_df = nsepy.get_history(symbol='INFY',\n",
        "                    start=date(2015,1,1), \n",
        "                    end=date(2015,12,31))"
      ],
      "execution_count": 0,
      "outputs": []
    },
    {
      "metadata": {
        "id": "FENpruV310Kg",
        "colab_type": "code",
        "outputId": "a917d4a5-0bdd-4157-fc37-b89fbf5813cd",
        "colab": {
          "base_uri": "https://localhost:8080/",
          "height": 50
        }
      },
      "cell_type": "code",
      "source": [
        "print(type(infy_df),'\\n', infy_df.shape)"
      ],
      "execution_count": 0,
      "outputs": [
        {
          "output_type": "stream",
          "text": [
            "<class 'pandas.core.frame.DataFrame'> \n",
            " (248, 14)\n"
          ],
          "name": "stdout"
        }
      ]
    },
    {
      "metadata": {
        "id": "TqfedZFP2DGp",
        "colab_type": "code",
        "outputId": "f247b992-601e-4ee2-f91f-2196e9e3734c",
        "colab": {
          "base_uri": "https://localhost:8080/",
          "height": 336
        }
      },
      "cell_type": "code",
      "source": [
        "infy_df.info()"
      ],
      "execution_count": 0,
      "outputs": [
        {
          "output_type": "stream",
          "text": [
            "<class 'pandas.core.frame.DataFrame'>\n",
            "Index: 248 entries, 2015-01-01 to 2015-12-31\n",
            "Data columns (total 14 columns):\n",
            "Symbol                248 non-null object\n",
            "Series                248 non-null object\n",
            "Prev Close            248 non-null float64\n",
            "Open                  248 non-null float64\n",
            "High                  248 non-null float64\n",
            "Low                   248 non-null float64\n",
            "Last                  248 non-null float64\n",
            "Close                 248 non-null float64\n",
            "VWAP                  248 non-null float64\n",
            "Volume                248 non-null int64\n",
            "Turnover              248 non-null float64\n",
            "Trades                248 non-null int64\n",
            "Deliverable Volume    248 non-null int64\n",
            "%Deliverble           248 non-null float64\n",
            "dtypes: float64(9), int64(3), object(2)\n",
            "memory usage: 29.1+ KB\n"
          ],
          "name": "stdout"
        }
      ]
    },
    {
      "metadata": {
        "id": "oIQsTLMu2dNf",
        "colab_type": "code",
        "outputId": "ca53a1ad-79eb-4da5-e29b-0f235adcdc4f",
        "colab": {
          "base_uri": "https://localhost:8080/",
          "height": 373
        }
      },
      "cell_type": "code",
      "source": [
        "infy_df.head(10)"
      ],
      "execution_count": 0,
      "outputs": [
        {
          "output_type": "execute_result",
          "data": {
            "text/html": [
              "<div>\n",
              "<style scoped>\n",
              "    .dataframe tbody tr th:only-of-type {\n",
              "        vertical-align: middle;\n",
              "    }\n",
              "\n",
              "    .dataframe tbody tr th {\n",
              "        vertical-align: top;\n",
              "    }\n",
              "\n",
              "    .dataframe thead th {\n",
              "        text-align: right;\n",
              "    }\n",
              "</style>\n",
              "<table border=\"1\" class=\"dataframe\">\n",
              "  <thead>\n",
              "    <tr style=\"text-align: right;\">\n",
              "      <th></th>\n",
              "      <th>Symbol</th>\n",
              "      <th>Series</th>\n",
              "      <th>Prev Close</th>\n",
              "      <th>Open</th>\n",
              "      <th>High</th>\n",
              "      <th>Low</th>\n",
              "      <th>Last</th>\n",
              "      <th>Close</th>\n",
              "      <th>VWAP</th>\n",
              "      <th>Volume</th>\n",
              "      <th>Turnover</th>\n",
              "      <th>Trades</th>\n",
              "      <th>Deliverable Volume</th>\n",
              "      <th>%Deliverble</th>\n",
              "    </tr>\n",
              "    <tr>\n",
              "      <th>Date</th>\n",
              "      <th></th>\n",
              "      <th></th>\n",
              "      <th></th>\n",
              "      <th></th>\n",
              "      <th></th>\n",
              "      <th></th>\n",
              "      <th></th>\n",
              "      <th></th>\n",
              "      <th></th>\n",
              "      <th></th>\n",
              "      <th></th>\n",
              "      <th></th>\n",
              "      <th></th>\n",
              "      <th></th>\n",
              "    </tr>\n",
              "  </thead>\n",
              "  <tbody>\n",
              "    <tr>\n",
              "      <th>2015-01-01</th>\n",
              "      <td>INFY</td>\n",
              "      <td>EQ</td>\n",
              "      <td>1972.55</td>\n",
              "      <td>1968.95</td>\n",
              "      <td>1982.00</td>\n",
              "      <td>1956.90</td>\n",
              "      <td>1971.00</td>\n",
              "      <td>1974.40</td>\n",
              "      <td>1971.34</td>\n",
              "      <td>500691</td>\n",
              "      <td>9.870306e+13</td>\n",
              "      <td>14908</td>\n",
              "      <td>258080</td>\n",
              "      <td>0.5154</td>\n",
              "    </tr>\n",
              "    <tr>\n",
              "      <th>2015-01-02</th>\n",
              "      <td>INFY</td>\n",
              "      <td>EQ</td>\n",
              "      <td>1974.40</td>\n",
              "      <td>1972.00</td>\n",
              "      <td>2019.05</td>\n",
              "      <td>1972.00</td>\n",
              "      <td>2017.95</td>\n",
              "      <td>2013.20</td>\n",
              "      <td>2003.25</td>\n",
              "      <td>1694580</td>\n",
              "      <td>3.394669e+14</td>\n",
              "      <td>54166</td>\n",
              "      <td>1249104</td>\n",
              "      <td>0.7371</td>\n",
              "    </tr>\n",
              "    <tr>\n",
              "      <th>2015-01-05</th>\n",
              "      <td>INFY</td>\n",
              "      <td>EQ</td>\n",
              "      <td>2013.20</td>\n",
              "      <td>2009.90</td>\n",
              "      <td>2030.00</td>\n",
              "      <td>1977.50</td>\n",
              "      <td>1996.00</td>\n",
              "      <td>1995.90</td>\n",
              "      <td>2004.59</td>\n",
              "      <td>2484256</td>\n",
              "      <td>4.979911e+14</td>\n",
              "      <td>82694</td>\n",
              "      <td>1830962</td>\n",
              "      <td>0.7370</td>\n",
              "    </tr>\n",
              "    <tr>\n",
              "      <th>2015-01-06</th>\n",
              "      <td>INFY</td>\n",
              "      <td>EQ</td>\n",
              "      <td>1995.90</td>\n",
              "      <td>1980.00</td>\n",
              "      <td>1985.00</td>\n",
              "      <td>1934.10</td>\n",
              "      <td>1965.10</td>\n",
              "      <td>1954.20</td>\n",
              "      <td>1954.82</td>\n",
              "      <td>2416829</td>\n",
              "      <td>4.724458e+14</td>\n",
              "      <td>108209</td>\n",
              "      <td>1772070</td>\n",
              "      <td>0.7332</td>\n",
              "    </tr>\n",
              "    <tr>\n",
              "      <th>2015-01-07</th>\n",
              "      <td>INFY</td>\n",
              "      <td>EQ</td>\n",
              "      <td>1954.20</td>\n",
              "      <td>1965.00</td>\n",
              "      <td>1974.75</td>\n",
              "      <td>1950.00</td>\n",
              "      <td>1966.05</td>\n",
              "      <td>1963.55</td>\n",
              "      <td>1962.59</td>\n",
              "      <td>1812479</td>\n",
              "      <td>3.557162e+14</td>\n",
              "      <td>62463</td>\n",
              "      <td>1317720</td>\n",
              "      <td>0.7270</td>\n",
              "    </tr>\n",
              "    <tr>\n",
              "      <th>2015-01-08</th>\n",
              "      <td>INFY</td>\n",
              "      <td>EQ</td>\n",
              "      <td>1963.55</td>\n",
              "      <td>1985.60</td>\n",
              "      <td>1997.00</td>\n",
              "      <td>1950.00</td>\n",
              "      <td>1979.25</td>\n",
              "      <td>1973.45</td>\n",
              "      <td>1972.78</td>\n",
              "      <td>3391230</td>\n",
              "      <td>6.690160e+14</td>\n",
              "      <td>92752</td>\n",
              "      <td>2686012</td>\n",
              "      <td>0.7920</td>\n",
              "    </tr>\n",
              "    <tr>\n",
              "      <th>2015-01-09</th>\n",
              "      <td>INFY</td>\n",
              "      <td>EQ</td>\n",
              "      <td>1973.45</td>\n",
              "      <td>1980.10</td>\n",
              "      <td>2109.00</td>\n",
              "      <td>1913.05</td>\n",
              "      <td>2075.30</td>\n",
              "      <td>2074.45</td>\n",
              "      <td>2037.69</td>\n",
              "      <td>11215832</td>\n",
              "      <td>2.285439e+15</td>\n",
              "      <td>359214</td>\n",
              "      <td>3369489</td>\n",
              "      <td>0.3004</td>\n",
              "    </tr>\n",
              "    <tr>\n",
              "      <th>2015-01-12</th>\n",
              "      <td>INFY</td>\n",
              "      <td>EQ</td>\n",
              "      <td>2074.45</td>\n",
              "      <td>2092.00</td>\n",
              "      <td>2119.20</td>\n",
              "      <td>2075.00</td>\n",
              "      <td>2112.95</td>\n",
              "      <td>2115.95</td>\n",
              "      <td>2099.40</td>\n",
              "      <td>3189722</td>\n",
              "      <td>6.696516e+14</td>\n",
              "      <td>107209</td>\n",
              "      <td>1818800</td>\n",
              "      <td>0.5702</td>\n",
              "    </tr>\n",
              "    <tr>\n",
              "      <th>2015-01-13</th>\n",
              "      <td>INFY</td>\n",
              "      <td>EQ</td>\n",
              "      <td>2115.95</td>\n",
              "      <td>2107.80</td>\n",
              "      <td>2107.80</td>\n",
              "      <td>2075.00</td>\n",
              "      <td>2092.00</td>\n",
              "      <td>2088.90</td>\n",
              "      <td>2089.42</td>\n",
              "      <td>2200309</td>\n",
              "      <td>4.597374e+14</td>\n",
              "      <td>66676</td>\n",
              "      <td>1385009</td>\n",
              "      <td>0.6295</td>\n",
              "    </tr>\n",
              "    <tr>\n",
              "      <th>2015-01-14</th>\n",
              "      <td>INFY</td>\n",
              "      <td>EQ</td>\n",
              "      <td>2088.90</td>\n",
              "      <td>2098.50</td>\n",
              "      <td>2133.00</td>\n",
              "      <td>2092.60</td>\n",
              "      <td>2129.00</td>\n",
              "      <td>2128.65</td>\n",
              "      <td>2110.88</td>\n",
              "      <td>2480315</td>\n",
              "      <td>5.235638e+14</td>\n",
              "      <td>53263</td>\n",
              "      <td>1832958</td>\n",
              "      <td>0.7390</td>\n",
              "    </tr>\n",
              "  </tbody>\n",
              "</table>\n",
              "</div>"
            ],
            "text/plain": [
              "           Symbol Series  Prev Close     Open     High      Low     Last  \\\n",
              "Date                                                                       \n",
              "2015-01-01   INFY     EQ     1972.55  1968.95  1982.00  1956.90  1971.00   \n",
              "2015-01-02   INFY     EQ     1974.40  1972.00  2019.05  1972.00  2017.95   \n",
              "2015-01-05   INFY     EQ     2013.20  2009.90  2030.00  1977.50  1996.00   \n",
              "2015-01-06   INFY     EQ     1995.90  1980.00  1985.00  1934.10  1965.10   \n",
              "2015-01-07   INFY     EQ     1954.20  1965.00  1974.75  1950.00  1966.05   \n",
              "2015-01-08   INFY     EQ     1963.55  1985.60  1997.00  1950.00  1979.25   \n",
              "2015-01-09   INFY     EQ     1973.45  1980.10  2109.00  1913.05  2075.30   \n",
              "2015-01-12   INFY     EQ     2074.45  2092.00  2119.20  2075.00  2112.95   \n",
              "2015-01-13   INFY     EQ     2115.95  2107.80  2107.80  2075.00  2092.00   \n",
              "2015-01-14   INFY     EQ     2088.90  2098.50  2133.00  2092.60  2129.00   \n",
              "\n",
              "              Close     VWAP    Volume      Turnover  Trades  \\\n",
              "Date                                                           \n",
              "2015-01-01  1974.40  1971.34    500691  9.870306e+13   14908   \n",
              "2015-01-02  2013.20  2003.25   1694580  3.394669e+14   54166   \n",
              "2015-01-05  1995.90  2004.59   2484256  4.979911e+14   82694   \n",
              "2015-01-06  1954.20  1954.82   2416829  4.724458e+14  108209   \n",
              "2015-01-07  1963.55  1962.59   1812479  3.557162e+14   62463   \n",
              "2015-01-08  1973.45  1972.78   3391230  6.690160e+14   92752   \n",
              "2015-01-09  2074.45  2037.69  11215832  2.285439e+15  359214   \n",
              "2015-01-12  2115.95  2099.40   3189722  6.696516e+14  107209   \n",
              "2015-01-13  2088.90  2089.42   2200309  4.597374e+14   66676   \n",
              "2015-01-14  2128.65  2110.88   2480315  5.235638e+14   53263   \n",
              "\n",
              "            Deliverable Volume  %Deliverble  \n",
              "Date                                         \n",
              "2015-01-01              258080       0.5154  \n",
              "2015-01-02             1249104       0.7371  \n",
              "2015-01-05             1830962       0.7370  \n",
              "2015-01-06             1772070       0.7332  \n",
              "2015-01-07             1317720       0.7270  \n",
              "2015-01-08             2686012       0.7920  \n",
              "2015-01-09             3369489       0.3004  \n",
              "2015-01-12             1818800       0.5702  \n",
              "2015-01-13             1385009       0.6295  \n",
              "2015-01-14             1832958       0.7390  "
            ]
          },
          "metadata": {
            "tags": []
          },
          "execution_count": 6
        }
      ]
    },
    {
      "metadata": {
        "id": "sHq17WZmVk1E",
        "colab_type": "text"
      },
      "cell_type": "markdown",
      "source": [
        "Converting index to datetimeIndex"
      ]
    },
    {
      "metadata": {
        "id": "MNlCYhFJ89xm",
        "colab_type": "code",
        "outputId": "c5ae4b67-055d-453b-9c09-6f016236ff93",
        "colab": {
          "base_uri": "https://localhost:8080/",
          "height": 34
        }
      },
      "cell_type": "code",
      "source": [
        "infy_df.index = pd.to_datetime(infy_df.index)\n",
        "print(type(infy_df.index))"
      ],
      "execution_count": 0,
      "outputs": [
        {
          "output_type": "stream",
          "text": [
            "<class 'pandas.core.indexes.datetimes.DatetimeIndex'>\n"
          ],
          "name": "stdout"
        }
      ]
    },
    {
      "metadata": {
        "id": "oQgTGn00Vp1c",
        "colab_type": "text"
      },
      "cell_type": "markdown",
      "source": [
        "#### Part 1.1"
      ]
    },
    {
      "metadata": {
        "id": "ik_7ljZe9iEl",
        "colab_type": "code",
        "colab": {}
      },
      "cell_type": "code",
      "source": [
        "def week_mov_avg(dataframe, week = 1):\n",
        "  infy_week = pd.DataFrame()\n",
        "  infy_week['Close'] = dataframe['Close'].resample('W').mean()\n",
        "  infy_week['Close'] = infy_week['Close'].rolling(window = week).mean()\n",
        "  infy_week['Close_backfilled'] = infy_week['Close'].fillna(method='backfill')\n",
        "  return infy_week\n"
      ],
      "execution_count": 0,
      "outputs": []
    },
    {
      "metadata": {
        "id": "gSmKbBYDFjbS",
        "colab_type": "code",
        "outputId": "09a41f87-b783-4002-8453-5d02ed9ad5de",
        "colab": {
          "base_uri": "https://localhost:8080/",
          "height": 134
        }
      },
      "cell_type": "code",
      "source": [
        "week_avg = pd.DataFrame(week_mov_avg(infy_df, 4))\n",
        "print(week_avg.head(5))"
      ],
      "execution_count": 0,
      "outputs": [
        {
          "output_type": "stream",
          "text": [
            "                  Close  Close_backfilled\n",
            "Date                                     \n",
            "2015-01-04          NaN       2066.235000\n",
            "2015-01-11          NaN       2066.235000\n",
            "2015-01-18          NaN       2066.235000\n",
            "2015-01-25  2066.235000       2066.235000\n",
            "2015-02-01  2103.313125       2103.313125\n"
          ],
          "name": "stdout"
        }
      ]
    },
    {
      "metadata": {
        "id": "YcjKq01qVvKv",
        "colab_type": "text"
      },
      "cell_type": "markdown",
      "source": [
        "#### Part 1.2"
      ]
    },
    {
      "metadata": {
        "id": "CeEnlO-JM79I",
        "colab_type": "code",
        "colab": {}
      },
      "cell_type": "code",
      "source": [
        "def day_mov_avg(dataframe, days = 1):\n",
        "  infy_day = pd.DataFrame()\n",
        "  infy_day['Close'] = dataframe['Close'].asfreq('D', method ='pad')\n",
        "  infy_day['Close'] = infy_day['Close'].rolling(window = days).mean()\n",
        "  infy_day['Close_backfilled'] = infy_day['Close'].fillna(method='backfill')\n",
        "  return infy_day"
      ],
      "execution_count": 0,
      "outputs": []
    },
    {
      "metadata": {
        "id": "A6mIKf5hNNoP",
        "colab_type": "code",
        "outputId": "8aa4aeb3-c3a3-40be-9167-0b868c21795e",
        "colab": {
          "base_uri": "https://localhost:8080/",
          "height": 302
        }
      },
      "cell_type": "code",
      "source": [
        "day_avg_10 = pd.DataFrame(day_mov_avg(infy_df, 10))\n",
        "print(day_avg_10.head(15))"
      ],
      "execution_count": 0,
      "outputs": [
        {
          "output_type": "stream",
          "text": [
            "               Close  Close_backfilled\n",
            "Date                                  \n",
            "2015-01-01       NaN          2005.000\n",
            "2015-01-02       NaN          2005.000\n",
            "2015-01-03       NaN          2005.000\n",
            "2015-01-04       NaN          2005.000\n",
            "2015-01-05       NaN          2005.000\n",
            "2015-01-06       NaN          2005.000\n",
            "2015-01-07       NaN          2005.000\n",
            "2015-01-08       NaN          2005.000\n",
            "2015-01-09       NaN          2005.000\n",
            "2015-01-10  2005.000          2005.000\n",
            "2015-01-11  2015.005          2015.005\n",
            "2015-01-12  2025.280          2025.280\n",
            "2015-01-13  2032.850          2032.850\n",
            "2015-01-14  2044.395          2044.395\n",
            "2015-01-15  2058.230          2058.230\n"
          ],
          "name": "stdout"
        }
      ]
    },
    {
      "metadata": {
        "id": "OpymZk_xRJ2I",
        "colab_type": "code",
        "outputId": "0dc86537-d1f5-40d1-c151-f59670c0021d",
        "colab": {
          "base_uri": "https://localhost:8080/",
          "height": 308
        }
      },
      "cell_type": "code",
      "source": [
        "day_avg_10['Close_backfilled'].plot()"
      ],
      "execution_count": 0,
      "outputs": [
        {
          "output_type": "execute_result",
          "data": {
            "text/plain": [
              "<matplotlib.axes._subplots.AxesSubplot at 0x7f2a8516af28>"
            ]
          },
          "metadata": {
            "tags": []
          },
          "execution_count": 12
        },
        {
          "output_type": "display_data",
          "data": {
            "image/png": "[encoded data removed]",
            "text/plain": [
              "<Figure size 432x288 with 1 Axes>"
            ]
          },
          "metadata": {
            "tags": []
          }
        }
      ]
    },
    {
      "metadata": {
        "id": "egiCeg0aQO-z",
        "colab_type": "code",
        "outputId": "07357e27-24a9-4d2d-f7cb-c07c9dd43482",
        "colab": {
          "base_uri": "https://localhost:8080/",
          "height": 1109
        }
      },
      "cell_type": "code",
      "source": [
        "day_avg_75 = pd.DataFrame(day_mov_avg(infy_df, 75))\n",
        "print(day_avg_75)"
      ],
      "execution_count": 0,
      "outputs": [
        {
          "output_type": "stream",
          "text": [
            "                  Close  Close_backfilled\n",
            "Date                                     \n",
            "2015-01-01          NaN       2188.290667\n",
            "2015-01-02          NaN       2188.290667\n",
            "2015-01-03          NaN       2188.290667\n",
            "2015-01-04          NaN       2188.290667\n",
            "2015-01-05          NaN       2188.290667\n",
            "2015-01-06          NaN       2188.290667\n",
            "2015-01-07          NaN       2188.290667\n",
            "2015-01-08          NaN       2188.290667\n",
            "2015-01-09          NaN       2188.290667\n",
            "2015-01-10          NaN       2188.290667\n",
            "2015-01-11          NaN       2188.290667\n",
            "2015-01-12          NaN       2188.290667\n",
            "2015-01-13          NaN       2188.290667\n",
            "2015-01-14          NaN       2188.290667\n",
            "2015-01-15          NaN       2188.290667\n",
            "2015-01-16          NaN       2188.290667\n",
            "2015-01-17          NaN       2188.290667\n",
            "2015-01-18          NaN       2188.290667\n",
            "2015-01-19          NaN       2188.290667\n",
            "2015-01-20          NaN       2188.290667\n",
            "2015-01-21          NaN       2188.290667\n",
            "2015-01-22          NaN       2188.290667\n",
            "2015-01-23          NaN       2188.290667\n",
            "2015-01-24          NaN       2188.290667\n",
            "2015-01-25          NaN       2188.290667\n",
            "2015-01-26          NaN       2188.290667\n",
            "2015-01-27          NaN       2188.290667\n",
            "2015-01-28          NaN       2188.290667\n",
            "2015-01-29          NaN       2188.290667\n",
            "2015-01-30          NaN       2188.290667\n",
            "...                 ...               ...\n",
            "2015-12-02  1115.286667       1115.286667\n",
            "2015-12-03  1114.664000       1114.664000\n",
            "2015-12-04  1113.925333       1113.925333\n",
            "2015-12-05  1113.184000       1113.184000\n",
            "2015-12-06  1112.405333       1112.405333\n",
            "2015-12-07  1111.472000       1111.472000\n",
            "2015-12-08  1110.190000       1110.190000\n",
            "2015-12-09  1108.692000       1108.692000\n",
            "2015-12-10  1107.449333       1107.449333\n",
            "2015-12-11  1106.279333       1106.279333\n",
            "2015-12-12  1105.576000       1105.576000\n",
            "2015-12-13  1104.655333       1104.655333\n",
            "2015-12-14  1103.422667       1103.422667\n",
            "2015-12-15  1102.149333       1102.149333\n",
            "2015-12-16  1101.120000       1101.120000\n",
            "2015-12-17  1100.240667       1100.240667\n",
            "2015-12-18  1099.042000       1099.042000\n",
            "2015-12-19  1097.727333       1097.727333\n",
            "2015-12-20  1096.774667       1096.774667\n",
            "2015-12-21  1096.378000       1096.378000\n",
            "2015-12-22  1095.732667       1095.732667\n",
            "2015-12-23  1094.845333       1094.845333\n",
            "2015-12-24  1093.898000       1093.898000\n",
            "2015-12-25  1092.950667       1092.950667\n",
            "2015-12-26  1092.596667       1092.596667\n",
            "2015-12-27  1092.556000       1092.556000\n",
            "2015-12-28  1092.651333       1092.651333\n",
            "2015-12-29  1092.749333       1092.749333\n",
            "2015-12-30  1092.634667       1092.634667\n",
            "2015-12-31  1092.774667       1092.774667\n",
            "\n",
            "[365 rows x 2 columns]\n"
          ],
          "name": "stdout"
        }
      ]
    },
    {
      "metadata": {
        "id": "MGah7HnmQ3J-",
        "colab_type": "code",
        "outputId": "23235664-0c04-47f2-b5af-bebeece11517",
        "colab": {
          "base_uri": "https://localhost:8080/",
          "height": 308
        }
      },
      "cell_type": "code",
      "source": [
        "day_avg_75['Close_backfilled'].plot()"
      ],
      "execution_count": 0,
      "outputs": [
        {
          "output_type": "execute_result",
          "data": {
            "text/plain": [
              "<matplotlib.axes._subplots.AxesSubplot at 0x7f2a8300cd68>"
            ]
          },
          "metadata": {
            "tags": []
          },
          "execution_count": 14
        },
        {
          "output_type": "display_data",
          "data": {
            "image/png": "[encoded data removed]",
            "text/plain": [
              "<Figure size 432x288 with 1 Axes>"
            ]
          },
          "metadata": {
            "tags": []
          }
        }
      ]
    },
    {
      "metadata": {
        "id": "9j32DKPYVywG",
        "colab_type": "text"
      },
      "cell_type": "markdown",
      "source": [
        "#### Part 1.3.1"
      ]
    },
    {
      "metadata": {
        "id": "0Gvk9nyOUIym",
        "colab_type": "code",
        "outputId": "03c3a0bb-2b96-48e6-ab7b-eef45b6bac6d",
        "colab": {
          "base_uri": "https://localhost:8080/",
          "height": 269
        }
      },
      "cell_type": "code",
      "source": [
        "infy = pd.DataFrame(infy_df[['Volume','Close']])\n",
        "\n",
        "infy['Vol_1'] = infy_df['Volume'].shift(1)\n",
        "infy['vol_percent'] = ((infy['Volume'] - infy['Vol_1'])/(infy['Volume'] ))*100 \n",
        "infy['vol_shock'] = (abs(infy[['vol_percent']]) > 10).astype(int)\n",
        "infy['vol_shock_direction'] = (infy[['vol_percent']] > 10).astype(int)\n",
        "\n",
        "print(infy.head(5))"
      ],
      "execution_count": 0,
      "outputs": [
        {
          "output_type": "stream",
          "text": [
            "             Volume    Close      Vol_1  vol_percent  vol_shock  \\\n",
            "Date                                                              \n",
            "2015-01-01   500691  1974.40        NaN          NaN          0   \n",
            "2015-01-02  1694580  2013.20   500691.0    70.453387          1   \n",
            "2015-01-05  2484256  1995.90  1694580.0    31.787223          1   \n",
            "2015-01-06  2416829  1954.20  2484256.0    -2.789895          0   \n",
            "2015-01-07  1812479  1963.55  2416829.0   -33.343835          1   \n",
            "\n",
            "            vol_shock_direction  \n",
            "Date                             \n",
            "2015-01-01                    0  \n",
            "2015-01-02                    1  \n",
            "2015-01-05                    1  \n",
            "2015-01-06                    0  \n",
            "2015-01-07                    0  \n"
          ],
          "name": "stdout"
        }
      ]
    },
    {
      "metadata": {
        "id": "mHk50pn4V3Qx",
        "colab_type": "text"
      },
      "cell_type": "markdown",
      "source": [
        "#### Part 1.3.2 & 1.3.3"
      ]
    },
    {
      "metadata": {
        "id": "ei_nRAc4OXPo",
        "colab_type": "code",
        "outputId": "647ba935-a40c-4da7-f442-fadbdaeb369b",
        "colab": {
          "base_uri": "https://localhost:8080/",
          "height": 655
        }
      },
      "cell_type": "code",
      "source": [
        "infy['Close_1'] = infy['Close'].shift(1)\n",
        "infy['price_percent'] = ((infy['Close'] - infy['Close_1'])/(infy['Close'] ))*100 \n",
        "infy['price_shock'] = (abs(infy[['price_percent']]) > 2).astype(int)\n",
        "infy['price_black_swan'] = infy['price_shock']\n",
        "infy['price_shock_direction'] = (infy[['price_percent']] > 2).astype(int)\n",
        "\n",
        "print(infy.head(10))"
      ],
      "execution_count": 0,
      "outputs": [
        {
          "output_type": "stream",
          "text": [
            "              Volume    Close       Vol_1  vol_percent  vol_shock  \\\n",
            "Date                                                                \n",
            "2015-01-01    500691  1974.40         NaN          NaN          0   \n",
            "2015-01-02   1694580  2013.20    500691.0    70.453387          1   \n",
            "2015-01-05   2484256  1995.90   1694580.0    31.787223          1   \n",
            "2015-01-06   2416829  1954.20   2484256.0    -2.789895          0   \n",
            "2015-01-07   1812479  1963.55   2416829.0   -33.343835          1   \n",
            "2015-01-08   3391230  1973.45   1812479.0    46.553935          1   \n",
            "2015-01-09  11215832  2074.45   3391230.0    69.763902          1   \n",
            "2015-01-12   3189722  2115.95  11215832.0  -251.624123          1   \n",
            "2015-01-13   2200309  2088.90   3189722.0   -44.967002          1   \n",
            "2015-01-14   2480315  2128.65   2200309.0    11.289131          1   \n",
            "\n",
            "            vol_shock_direction  Close_1  price_percent  price_shock  \\\n",
            "Date                                                                   \n",
            "2015-01-01                    0      NaN            NaN            0   \n",
            "2015-01-02                    1  1974.40       1.927280            0   \n",
            "2015-01-05                    1  2013.20      -0.866777            0   \n",
            "2015-01-06                    0  1995.90      -2.133866            1   \n",
            "2015-01-07                    0  1954.20       0.476178            0   \n",
            "2015-01-08                    1  1963.55       0.501660            0   \n",
            "2015-01-09                    1  1973.45       4.868760            1   \n",
            "2015-01-12                    0  2074.45       1.961294            0   \n",
            "2015-01-13                    0  2115.95      -1.294940            0   \n",
            "2015-01-14                    1  2088.90       1.867381            0   \n",
            "\n",
            "            price_black_swan  price_shock_direction  \n",
            "Date                                                 \n",
            "2015-01-01                 0                      0  \n",
            "2015-01-02                 0                      0  \n",
            "2015-01-05                 0                      0  \n",
            "2015-01-06                 1                      0  \n",
            "2015-01-07                 0                      0  \n",
            "2015-01-08                 0                      0  \n",
            "2015-01-09                 1                      1  \n",
            "2015-01-12                 0                      0  \n",
            "2015-01-13                 0                      0  \n",
            "2015-01-14                 0                      0  \n"
          ],
          "name": "stdout"
        }
      ]
    },
    {
      "metadata": {
        "id": "4487XlTVV8ZL",
        "colab_type": "text"
      },
      "cell_type": "markdown",
      "source": [
        "#### Part 1.3.4"
      ]
    },
    {
      "metadata": {
        "id": "B-pnoFTaQJza",
        "colab_type": "code",
        "outputId": "9de39a56-3c36-4ae5-e9c9-09582ca61154",
        "colab": {
          "base_uri": "https://localhost:8080/",
          "height": 655
        }
      },
      "cell_type": "code",
      "source": [
        "infy['price_shock_w/o_vol_shock'] = ((infy['price_shock']==1) & (infy['vol_shock']==0)).astype(int) \n",
        "print(infy.head(10))"
      ],
      "execution_count": 0,
      "outputs": [
        {
          "output_type": "stream",
          "text": [
            "              Volume    Close       Vol_1  vol_percent  vol_shock  \\\n",
            "Date                                                                \n",
            "2015-01-01    500691  1974.40         NaN          NaN          0   \n",
            "2015-01-02   1694580  2013.20    500691.0    70.453387          1   \n",
            "2015-01-05   2484256  1995.90   1694580.0    31.787223          1   \n",
            "2015-01-06   2416829  1954.20   2484256.0    -2.789895          0   \n",
            "2015-01-07   1812479  1963.55   2416829.0   -33.343835          1   \n",
            "2015-01-08   3391230  1973.45   1812479.0    46.553935          1   \n",
            "2015-01-09  11215832  2074.45   3391230.0    69.763902          1   \n",
            "2015-01-12   3189722  2115.95  11215832.0  -251.624123          1   \n",
            "2015-01-13   2200309  2088.90   3189722.0   -44.967002          1   \n",
            "2015-01-14   2480315  2128.65   2200309.0    11.289131          1   \n",
            "\n",
            "            vol_shock_direction  Close_1  price_percent  price_shock  \\\n",
            "Date                                                                   \n",
            "2015-01-01                    0      NaN            NaN            0   \n",
            "2015-01-02                    1  1974.40       1.927280            0   \n",
            "2015-01-05                    1  2013.20      -0.866777            0   \n",
            "2015-01-06                    0  1995.90      -2.133866            1   \n",
            "2015-01-07                    0  1954.20       0.476178            0   \n",
            "2015-01-08                    1  1963.55       0.501660            0   \n",
            "2015-01-09                    1  1973.45       4.868760            1   \n",
            "2015-01-12                    0  2074.45       1.961294            0   \n",
            "2015-01-13                    0  2115.95      -1.294940            0   \n",
            "2015-01-14                    1  2088.90       1.867381            0   \n",
            "\n",
            "            price_black_swan  price_shock_direction  price_shock_w/o_vol_shock  \n",
            "Date                                                                            \n",
            "2015-01-01                 0                      0                          0  \n",
            "2015-01-02                 0                      0                          0  \n",
            "2015-01-05                 0                      0                          0  \n",
            "2015-01-06                 1                      0                          1  \n",
            "2015-01-07                 0                      0                          0  \n",
            "2015-01-08                 0                      0                          0  \n",
            "2015-01-09                 1                      1                          0  \n",
            "2015-01-12                 0                      0                          0  \n",
            "2015-01-13                 0                      0                          0  \n",
            "2015-01-14                 0                      0                          0  \n"
          ],
          "name": "stdout"
        }
      ]
    },
    {
      "metadata": {
        "id": "DtCLJL-PV_FS",
        "colab_type": "text"
      },
      "cell_type": "markdown",
      "source": [
        "### Part 2"
      ]
    },
    {
      "metadata": {
        "id": "CQ7J_dA2d-wd",
        "colab_type": "code",
        "outputId": "0203863f-32b3-468a-be6f-df8978a796b1",
        "colab": {
          "base_uri": "https://localhost:8080/",
          "height": 47
        }
      },
      "cell_type": "code",
      "source": [
        "import bokeh\n",
        "from bokeh.plotting import figure, output_file, show\n",
        "from bokeh.io import show, output_notebook\n",
        "from bokeh.palettes import Blues9\n",
        "from bokeh.palettes import RdBu3\n",
        "from bokeh.models import ColumnDataSource, CategoricalColorMapper, ContinuousColorMapper, LinearColorMapper\n",
        "from bokeh.palettes import Spectral11\n",
        "from bokeh.io import curdoc\n",
        "output_notebook()\n",
        "from bokeh.transform import linear_cmap"
      ],
      "execution_count": 0,
      "outputs": [
        {
          "output_type": "display_data",
          "data": {
            "text/html": [
              "\n",
              "    <div class=\"bk-root\">\n",
              "        <a href=\"https://bokeh.pydata.org\" target=\"_blank\" class=\"bk-logo bk-logo-small bk-logo-notebook\"></a>\n",
              "        <span id=\"1001\">Loading BokehJS ...</span>\n",
              "    </div>"
            ]
          },
          "metadata": {
            "tags": []
          }
        },
        {
          "output_type": "display_data",
          "data": {
            "application/javascript": [
              "\n",
              "(function(root) {\n",
              "  function now() {\n",
              "    return new Date();\n",
              "  }\n",
              "\n",
              "  var force = true;\n",
              "\n",
              "  if (typeof (root._bokeh_onload_callbacks) === \"undefined\" || force === true) {\n",
              "    root._bokeh_onload_callbacks = [];\n",
              "    root._bokeh_is_loading = undefined;\n",
              "  }\n",
              "\n",
              "  var JS_MIME_TYPE = 'application/javascript';\n",
              "  var HTML_MIME_TYPE = 'text/html';\n",
              "  var EXEC_MIME_TYPE = 'application/vnd.bokehjs_exec.v0+json';\n",
              "  var CLASS_NAME = 'output_bokeh rendered_html';\n",
              "\n",
              "  /**\n",
              "   * Render data to the DOM node\n",
              "   */\n",
              "  function render(props, node) {\n",
              "    var script = document.createElement(\"script\");\n",
              "    node.appendChild(script);\n",
              "  }\n",
              "\n",
              "  /**\n",
              "   * Handle when an output is cleared or removed\n",
              "   */\n",
              "  function handleClearOutput(event, handle) {\n",
              "    var cell = handle.cell;\n",
              "\n",
              "    var id = cell.output_area._bokeh_element_id;\n",
              "    var server_id = cell.output_area._bokeh_server_id;\n",
              "    // Clean up Bokeh references\n",
              "    if (id != null && id in Bokeh.index) {\n",
              "      Bokeh.index[id].model.document.clear();\n",
              "      delete Bokeh.index[id];\n",
              "    }\n",
              "\n",
              "    if (server_id !== undefined) {\n",
              "      // Clean up Bokeh references\n",
              "      var cmd = \"from bokeh.io.state import curstate; print(curstate().uuid_to_server['\" + server_id + \"'].get_sessions()[0].document.roots[0]._id)\";\n",
              "      cell.notebook.kernel.execute(cmd, {\n",
              "        iopub: {\n",
              "          output: function(msg) {\n",
              "            var id = msg.content.text.trim();\n",
              "            if (id in Bokeh.index) {\n",
              "              Bokeh.index[id].model.document.clear();\n",
              "              delete Bokeh.index[id];\n",
              "            }\n",
              "          }\n",
              "        }\n",
              "      });\n",
              "      // Destroy server and session\n",
              "      var cmd = \"import bokeh.io.notebook as ion; ion.destroy_server('\" + server_id + \"')\";\n",
              "      cell.notebook.kernel.execute(cmd);\n",
              "    }\n",
              "  }\n",
              "\n",
              "  /**\n",
              "   * Handle when a new output is added\n",
              "   */\n",
              "  function handleAddOutput(event, handle) {\n",
              "    var output_area = handle.output_area;\n",
              "    var output = handle.output;\n",
              "\n",
              "    // limit handleAddOutput to display_data with EXEC_MIME_TYPE content only\n",
              "    if ((output.output_type != \"display_data\") || (!output.data.hasOwnProperty(EXEC_MIME_TYPE))) {\n",
              "      return\n",
              "    }\n",
              "\n",
              "    var toinsert = output_area.element.find(\".\" + CLASS_NAME.split(' ')[0]);\n",
              "\n",
              "    if (output.metadata[EXEC_MIME_TYPE][\"id\"] !== undefined) {\n",
              "      toinsert[toinsert.length - 1].firstChild.textContent = output.data[JS_MIME_TYPE];\n",
              "      // store reference to embed id on output_area\n",
              "      output_area._bokeh_element_id = output.metadata[EXEC_MIME_TYPE][\"id\"];\n",
              "    }\n",
              "    if (output.metadata[EXEC_MIME_TYPE][\"server_id\"] !== undefined) {\n",
              "      var bk_div = document.createElement(\"div\");\n",
              "      bk_div.innerHTML = output.data[HTML_MIME_TYPE];\n",
              "      var script_attrs = bk_div.children[0].attributes;\n",
              "      for (var i = 0; i < script_attrs.length; i++) {\n",
              "        toinsert[toinsert.length - 1].firstChild.setAttribute(script_attrs[i].name, script_attrs[i].value);\n",
              "      }\n",
              "      // store reference to server id on output_area\n",
              "      output_area._bokeh_server_id = output.metadata[EXEC_MIME_TYPE][\"server_id\"];\n",
              "    }\n",
              "  }\n",
              "\n",
              "  function register_renderer(events, OutputArea) {\n",
              "\n",
              "    function append_mime(data, metadata, element) {\n",
              "      // create a DOM node to render to\n",
              "      var toinsert = this.create_output_subarea(\n",
              "        metadata,\n",
              "        CLASS_NAME,\n",
              "        EXEC_MIME_TYPE\n",
              "      );\n",
              "      this.keyboard_manager.register_events(toinsert);\n",
              "      // Render to node\n",
              "      var props = {data: data, metadata: metadata[EXEC_MIME_TYPE]};\n",
              "      render(props, toinsert[toinsert.length - 1]);\n",
              "      element.append(toinsert);\n",
              "      return toinsert\n",
              "    }\n",
              "\n",
              "    /* Handle when an output is cleared or removed */\n",
              "    events.on('clear_output.CodeCell', handleClearOutput);\n",
              "    events.on('delete.Cell', handleClearOutput);\n",
              "\n",
              "    /* Handle when a new output is added */\n",
              "    events.on('output_added.OutputArea', handleAddOutput);\n",
              "\n",
              "    /**\n",
              "     * Register the mime type and append_mime function with output_area\n",
              "     */\n",
              "    OutputArea.prototype.register_mime_type(EXEC_MIME_TYPE, append_mime, {\n",
              "      /* Is output safe? */\n",
              "      safe: true,\n",
              "      /* Index of renderer in `output_area.display_order` */\n",
              "      index: 0\n",
              "    });\n",
              "  }\n",
              "\n",
              "  // register the mime type if in Jupyter Notebook environment and previously unregistered\n",
              "  if (root.Jupyter !== undefined) {\n",
              "    var events = require('base/js/events');\n",
              "    var OutputArea = require('notebook/js/outputarea').OutputArea;\n",
              "\n",
              "    if (OutputArea.prototype.mime_types().indexOf(EXEC_MIME_TYPE) == -1) {\n",
              "      register_renderer(events, OutputArea);\n",
              "    }\n",
              "  }\n",
              "\n",
              "  \n",
              "  if (typeof (root._bokeh_timeout) === \"undefined\" || force === true) {\n",
              "    root._bokeh_timeout = Date.now() + 5000;\n",
              "    root._bokeh_failed_load = false;\n",
              "  }\n",
              "\n",
              "  var NB_LOAD_WARNING = {'data': {'text/html':\n",
              "     \"<div style='background-color: #fdd'>\\n\"+\n",
              "     \"<p>\\n\"+\n",
              "     \"BokehJS does not appear to have successfully loaded. If loading BokehJS from CDN, this \\n\"+\n",
              "     \"may be due to a slow or bad network connection. Possible fixes:\\n\"+\n",
              "     \"</p>\\n\"+\n",
              "     \"<ul>\\n\"+\n",
              "     \"<li>re-rerun `output_notebook()` to attempt to load from CDN again, or</li>\\n\"+\n",
              "     \"<li>use INLINE resources instead, as so:</li>\\n\"+\n",
              "     \"</ul>\\n\"+\n",
              "     \"<code>\\n\"+\n",
              "     \"from bokeh.resources import INLINE\\n\"+\n",
              "     \"output_notebook(resources=INLINE)\\n\"+\n",
              "     \"</code>\\n\"+\n",
              "     \"</div>\"}};\n",
              "\n",
              "  function display_loaded() {\n",
              "    var el = document.getElementById(\"1001\");\n",
              "    if (el != null) {\n",
              "      el.textContent = \"BokehJS is loading...\";\n",
              "    }\n",
              "    if (root.Bokeh !== undefined) {\n",
              "      if (el != null) {\n",
              "        el.textContent = \"BokehJS \" + root.Bokeh.version + \" successfully loaded.\";\n",
              "      }\n",
              "    } else if (Date.now() < root._bokeh_timeout) {\n",
              "      setTimeout(display_loaded, 100)\n",
              "    }\n",
              "  }\n",
              "\n",
              "\n",
              "  function run_callbacks() {\n",
              "    try {\n",
              "      root._bokeh_onload_callbacks.forEach(function(callback) { callback() });\n",
              "    }\n",
              "    finally {\n",
              "      delete root._bokeh_onload_callbacks\n",
              "    }\n",
              "    console.info(\"Bokeh: all callbacks have finished\");\n",
              "  }\n",
              "\n",
              "  function load_libs(js_urls, callback) {\n",
              "    root._bokeh_onload_callbacks.push(callback);\n",
              "    if (root._bokeh_is_loading > 0) {\n",
              "      console.log(\"Bokeh: BokehJS is being loaded, scheduling callback at\", now());\n",
              "      return null;\n",
              "    }\n",
              "    if (js_urls == null || js_urls.length === 0) {\n",
              "      run_callbacks();\n",
              "      return null;\n",
              "    }\n",
              "    console.log(\"Bokeh: BokehJS not loaded, scheduling load and callback at\", now());\n",
              "    root._bokeh_is_loading = js_urls.length;\n",
              "    for (var i = 0; i < js_urls.length; i++) {\n",
              "      var url = js_urls[i];\n",
              "      var s = document.createElement('script');\n",
              "      s.src = url;\n",
              "      s.async = false;\n",
              "      s.onreadystatechange = s.onload = function() {\n",
              "        root._bokeh_is_loading--;\n",
              "        if (root._bokeh_is_loading === 0) {\n",
              "          console.log(\"Bokeh: all BokehJS libraries loaded\");\n",
              "          run_callbacks()\n",
              "        }\n",
              "      };\n",
              "      s.onerror = function() {\n",
              "        console.warn(\"failed to load library \" + url);\n",
              "      };\n",
              "      console.log(\"Bokeh: injecting script tag for BokehJS library: \", url);\n",
              "      document.getElementsByTagName(\"head\")[0].appendChild(s);\n",
              "    }\n",
              "  };var element = document.getElementById(\"1001\");\n",
              "  if (element == null) {\n",
              "    console.log(\"Bokeh: ERROR: autoload.js configured with elementid '1001' but no matching script tag was found. \")\n",
              "    return false;\n",
              "  }\n",
              "\n",
              "  var js_urls = [\"https://cdn.pydata.org/bokeh/release/bokeh-1.0.4.min.js\", \"https://cdn.pydata.org/bokeh/release/bokeh-widgets-1.0.4.min.js\", \"https://cdn.pydata.org/bokeh/release/bokeh-tables-1.0.4.min.js\", \"https://cdn.pydata.org/bokeh/release/bokeh-gl-1.0.4.min.js\"];\n",
              "\n",
              "  var inline_js = [\n",
              "    function(Bokeh) {\n",
              "      Bokeh.set_log_level(\"info\");\n",
              "    },\n",
              "    \n",
              "    function(Bokeh) {\n",
              "      \n",
              "    },\n",
              "    function(Bokeh) {\n",
              "      console.log(\"Bokeh: injecting CSS: https://cdn.pydata.org/bokeh/release/bokeh-1.0.4.min.css\");\n",
              "      Bokeh.embed.inject_css(\"https://cdn.pydata.org/bokeh/release/bokeh-1.0.4.min.css\");\n",
              "      console.log(\"Bokeh: injecting CSS: https://cdn.pydata.org/bokeh/release/bokeh-widgets-1.0.4.min.css\");\n",
              "      Bokeh.embed.inject_css(\"https://cdn.pydata.org/bokeh/release/bokeh-widgets-1.0.4.min.css\");\n",
              "      console.log(\"Bokeh: injecting CSS: https://cdn.pydata.org/bokeh/release/bokeh-tables-1.0.4.min.css\");\n",
              "      Bokeh.embed.inject_css(\"https://cdn.pydata.org/bokeh/release/bokeh-tables-1.0.4.min.css\");\n",
              "    }\n",
              "  ];\n",
              "\n",
              "  function run_inline_js() {\n",
              "    \n",
              "    if ((root.Bokeh !== undefined) || (force === true)) {\n",
              "      for (var i = 0; i < inline_js.length; i++) {\n",
              "        inline_js[i].call(root, root.Bokeh);\n",
              "      }if (force === true) {\n",
              "        display_loaded();\n",
              "      }} else if (Date.now() < root._bokeh_timeout) {\n",
              "      setTimeout(run_inline_js, 100);\n",
              "    } else if (!root._bokeh_failed_load) {\n",
              "      console.log(\"Bokeh: BokehJS failed to load within specified timeout.\");\n",
              "      root._bokeh_failed_load = true;\n",
              "    } else if (force !== true) {\n",
              "      var cell = $(document.getElementById(\"1001\")).parents('.cell').data().cell;\n",
              "      cell.output_area.append_execute_result(NB_LOAD_WARNING)\n",
              "    }\n",
              "\n",
              "  }\n",
              "\n",
              "  if (root._bokeh_is_loading === 0) {\n",
              "    console.log(\"Bokeh: BokehJS loaded, going straight to plotting\");\n",
              "    run_inline_js();\n",
              "  } else {\n",
              "    load_libs(js_urls, function() {\n",
              "      console.log(\"Bokeh: BokehJS plotting callback run at\", now());\n",
              "      run_inline_js();\n",
              "    });\n",
              "  }\n",
              "}(window));"
            ],
            "application/vnd.bokehjs_load.v0+json": "\n(function(root) {\n  function now() {\n    return new Date();\n  }\n\n  var force = true;\n\n  if (typeof (root._bokeh_onload_callbacks) === \"undefined\" || force === true) {\n    root._bokeh_onload_callbacks = [];\n    root._bokeh_is_loading = undefined;\n  }\n\n  \n\n  \n  if (typeof (root._bokeh_timeout) === \"undefined\" || force === true) {\n    root._bokeh_timeout = Date.now() + 5000;\n    root._bokeh_failed_load = false;\n  }\n\n  var NB_LOAD_WARNING = {'data': {'text/html':\n     \"<div style='background-color: #fdd'>\\n\"+\n     \"<p>\\n\"+\n     \"BokehJS does not appear to have successfully loaded. If loading BokehJS from CDN, this \\n\"+\n     \"may be due to a slow or bad network connection. Possible fixes:\\n\"+\n     \"</p>\\n\"+\n     \"<ul>\\n\"+\n     \"<li>re-rerun `output_notebook()` to attempt to load from CDN again, or</li>\\n\"+\n     \"<li>use INLINE resources instead, as so:</li>\\n\"+\n     \"</ul>\\n\"+\n     \"<code>\\n\"+\n     \"from bokeh.resources import INLINE\\n\"+\n     \"output_notebook(resources=INLINE)\\n\"+\n     \"</code>\\n\"+\n     \"</div>\"}};\n\n  function display_loaded() {\n    var el = document.getElementById(\"1001\");\n    if (el != null) {\n      el.textContent = \"BokehJS is loading...\";\n    }\n    if (root.Bokeh !== undefined) {\n      if (el != null) {\n        el.textContent = \"BokehJS \" + root.Bokeh.version + \" successfully loaded.\";\n      }\n    } else if (Date.now() < root._bokeh_timeout) {\n      setTimeout(display_loaded, 100)\n    }\n  }\n\n\n  function run_callbacks() {\n    try {\n      root._bokeh_onload_callbacks.forEach(function(callback) { callback() });\n    }\n    finally {\n      delete root._bokeh_onload_callbacks\n    }\n    console.info(\"Bokeh: all callbacks have finished\");\n  }\n\n  function load_libs(js_urls, callback) {\n    root._bokeh_onload_callbacks.push(callback);\n    if (root._bokeh_is_loading > 0) {\n      console.log(\"Bokeh: BokehJS is being loaded, scheduling callback at\", now());\n      return null;\n    }\n    if (js_urls == null || js_urls.length === 0) {\n      run_callbacks();\n      return null;\n    }\n    console.log(\"Bokeh: BokehJS not loaded, scheduling load and callback at\", now());\n    root._bokeh_is_loading = js_urls.length;\n    for (var i = 0; i < js_urls.length; i++) {\n      var url = js_urls[i];\n      var s = document.createElement('script');\n      s.src = url;\n      s.async = false;\n      s.onreadystatechange = s.onload = function() {\n        root._bokeh_is_loading--;\n        if (root._bokeh_is_loading === 0) {\n          console.log(\"Bokeh: all BokehJS libraries loaded\");\n          run_callbacks()\n        }\n      };\n      s.onerror = function() {\n        console.warn(\"failed to load library \" + url);\n      };\n      console.log(\"Bokeh: injecting script tag for BokehJS library: \", url);\n      document.getElementsByTagName(\"head\")[0].appendChild(s);\n    }\n  };var element = document.getElementById(\"1001\");\n  if (element == null) {\n    console.log(\"Bokeh: ERROR: autoload.js configured with elementid '1001' but no matching script tag was found. \")\n    return false;\n  }\n\n  var js_urls = [\"https://cdn.pydata.org/bokeh/release/bokeh-1.0.4.min.js\", \"https://cdn.pydata.org/bokeh/release/bokeh-widgets-1.0.4.min.js\", \"https://cdn.pydata.org/bokeh/release/bokeh-tables-1.0.4.min.js\", \"https://cdn.pydata.org/bokeh/release/bokeh-gl-1.0.4.min.js\"];\n\n  var inline_js = [\n    function(Bokeh) {\n      Bokeh.set_log_level(\"info\");\n    },\n    \n    function(Bokeh) {\n      \n    },\n    function(Bokeh) {\n      console.log(\"Bokeh: injecting CSS: https://cdn.pydata.org/bokeh/release/bokeh-1.0.4.min.css\");\n      Bokeh.embed.inject_css(\"https://cdn.pydata.org/bokeh/release/bokeh-1.0.4.min.css\");\n      console.log(\"Bokeh: injecting CSS: https://cdn.pydata.org/bokeh/release/bokeh-widgets-1.0.4.min.css\");\n      Bokeh.embed.inject_css(\"https://cdn.pydata.org/bokeh/release/bokeh-widgets-1.0.4.min.css\");\n      console.log(\"Bokeh: injecting CSS: https://cdn.pydata.org/bokeh/release/bokeh-tables-1.0.4.min.css\");\n      Bokeh.embed.inject_css(\"https://cdn.pydata.org/bokeh/release/bokeh-tables-1.0.4.min.css\");\n    }\n  ];\n\n  function run_inline_js() {\n    \n    if ((root.Bokeh !== undefined) || (force === true)) {\n      for (var i = 0; i < inline_js.length; i++) {\n        inline_js[i].call(root, root.Bokeh);\n      }if (force === true) {\n        display_loaded();\n      }} else if (Date.now() < root._bokeh_timeout) {\n      setTimeout(run_inline_js, 100);\n    } else if (!root._bokeh_failed_load) {\n      console.log(\"Bokeh: BokehJS failed to load within specified timeout.\");\n      root._bokeh_failed_load = true;\n    } else if (force !== true) {\n      var cell = $(document.getElementById(\"1001\")).parents('.cell').data().cell;\n      cell.output_area.append_execute_result(NB_LOAD_WARNING)\n    }\n\n  }\n\n  if (root._bokeh_is_loading === 0) {\n    console.log(\"Bokeh: BokehJS loaded, going straight to plotting\");\n    run_inline_js();\n  } else {\n    load_libs(js_urls, function() {\n      console.log(\"Bokeh: BokehJS plotting callback run at\", now());\n      run_inline_js();\n    });\n  }\n}(window));"
          },
          "metadata": {
            "tags": []
          }
        }
      ]
    },
    {
      "metadata": {
        "id": "R4Udgp9AWBps",
        "colab_type": "text"
      },
      "cell_type": "markdown",
      "source": [
        "#### Part 2.1&2"
      ]
    },
    {
      "metadata": {
        "id": "nVz8IE_meCyq",
        "colab_type": "code",
        "outputId": "a0fb1e75-c952-40f2-da24-05a1d641c3dc",
        "colab": {
          "base_uri": "https://localhost:8080/",
          "height": 17
        }
      },
      "cell_type": "code",
      "source": [
        "p = figure(plot_width=800, title = 'time series for INFY',plot_height=250, x_axis_type=\"datetime\")\n",
        "p.line(infy.index, infy['Close'], color='blue', alpha=0.5)\n",
        "show(p)\n",
        "output_file(\"A.html\")"
      ],
      "execution_count": 0,
      "outputs": [
        {
          "output_type": "display_data",
          "data": {
            "text/html": [
              "\n",
              "\n",
              "\n",
              "\n",
              "\n",
              "\n",
              "  <div class=\"bk-root\" id=\"1a1ca832-ed36-41a8-b7a3-7a513eec794e\" data-root-id=\"1566\"></div>\n"
            ]
          },
          "metadata": {
            "tags": []
          }
        },
        {
          "output_type": "display_data",
          "data": {
            "application/javascript": [
              "(function(root) {\n",
              "  function embed_document(root) {\n",
              "    \n",
              "  var docs_json = {\"78205ccf-103a-4d03-ac7e-fe0f392a6a1a\":{\"roots\":{\"references\":[{\"attributes\":{\"below\":[{\"id\":\"1576\",\"type\":\"DatetimeAxis\"}],\"left\":[{\"id\":\"1581\",\"type\":\"LinearAxis\"}],\"plot_height\":250,\"plot_width\":800,\"renderers\":[{\"id\":\"1576\",\"type\":\"DatetimeAxis\"},{\"id\":\"1580\",\"type\":\"Grid\"},{\"id\":\"1581\",\"type\":\"LinearAxis\"},{\"id\":\"1585\",\"type\":\"Grid\"},{\"id\":\"1594\",\"type\":\"BoxAnnotation\"},{\"id\":\"1604\",\"type\":\"GlyphRenderer\"}],\"title\":{\"id\":\"1565\",\"type\":\"Title\"},\"toolbar\":{\"id\":\"1592\",\"type\":\"Toolbar\"},\"x_range\":{\"id\":\"1568\",\"type\":\"DataRange1d\"},\"x_scale\":{\"id\":\"1572\",\"type\":\"LinearScale\"},\"y_range\":{\"id\":\"1570\",\"type\":\"DataRange1d\"},\"y_scale\":{\"id\":\"1574\",\"type\":\"LinearScale\"}},\"id\":\"1566\",\"subtype\":\"Figure\",\"type\":\"Plot\"},{\"attributes\":{\"bottom_units\":\"screen\",\"fill_alpha\":{\"value\":0.5},\"fill_color\":{\"value\":\"lightgrey\"},\"left_units\":\"screen\",\"level\":\"overlay\",\"line_alpha\":{\"value\":1.0},\"line_color\":{\"value\":\"black\"},\"line_dash\":[4,4],\"line_width\":{\"value\":2},\"plot\":null,\"render_mode\":\"css\",\"right_units\":\"screen\",\"top_units\":\"screen\"},\"id\":\"1594\",\"type\":\"BoxAnnotation\"},{\"attributes\":{},\"id\":\"1572\",\"type\":\"LinearScale\"},{\"attributes\":{\"days\":[1,15]},\"id\":\"1657\",\"type\":\"DaysTicker\"},{\"attributes\":{},\"id\":\"1574\",\"type\":\"LinearScale\"},{\"attributes\":{\"months\":[0,4,8]},\"id\":\"1660\",\"type\":\"MonthsTicker\"},{\"attributes\":{\"formatter\":{\"id\":\"1648\",\"type\":\"DatetimeTickFormatter\"},\"plot\":{\"id\":\"1566\",\"subtype\":\"Figure\",\"type\":\"Plot\"},\"ticker\":{\"id\":\"1577\",\"type\":\"DatetimeTicker\"}},\"id\":\"1576\",\"type\":\"DatetimeAxis\"},{\"attributes\":{\"num_minor_ticks\":5,\"tickers\":[{\"id\":\"1651\",\"type\":\"AdaptiveTicker\"},{\"id\":\"1652\",\"type\":\"AdaptiveTicker\"},{\"id\":\"1653\",\"type\":\"AdaptiveTicker\"},{\"id\":\"1654\",\"type\":\"DaysTicker\"},{\"id\":\"1655\",\"type\":\"DaysTicker\"},{\"id\":\"1656\",\"type\":\"DaysTicker\"},{\"id\":\"1657\",\"type\":\"DaysTicker\"},{\"id\":\"1658\",\"type\":\"MonthsTicker\"},{\"id\":\"1659\",\"type\":\"MonthsTicker\"},{\"id\":\"1660\",\"type\":\"MonthsTicker\"},{\"id\":\"1661\",\"type\":\"MonthsTicker\"},{\"id\":\"1662\",\"type\":\"YearsTicker\"}]},\"id\":\"1577\",\"type\":\"DatetimeTicker\"},{\"attributes\":{\"days\":[1,8,15,22]},\"id\":\"1656\",\"type\":\"DaysTicker\"},{\"attributes\":{},\"id\":\"1590\",\"type\":\"ResetTool\"},{\"attributes\":{},\"id\":\"1663\",\"type\":\"UnionRenderers\"},{\"attributes\":{},\"id\":\"1591\",\"type\":\"HelpTool\"},{\"attributes\":{\"line_alpha\":0.5,\"line_color\":\"blue\",\"x\":{\"field\":\"x\"},\"y\":{\"field\":\"y\"}},\"id\":\"1602\",\"type\":\"Line\"},{\"attributes\":{},\"id\":\"1662\",\"type\":\"YearsTicker\"},{\"attributes\":{\"plot\":{\"id\":\"1566\",\"subtype\":\"Figure\",\"type\":\"Plot\"},\"ticker\":{\"id\":\"1577\",\"type\":\"DatetimeTicker\"}},\"id\":\"1580\",\"type\":\"Grid\"},{\"attributes\":{},\"id\":\"1648\",\"type\":\"DatetimeTickFormatter\"},{\"attributes\":{\"days\":[1,2,3,4,5,6,7,8,9,10,11,12,13,14,15,16,17,18,19,20,21,22,23,24,25,26,27,28,29,30,31]},\"id\":\"1654\",\"type\":\"DaysTicker\"},{\"attributes\":{\"formatter\":{\"id\":\"1650\",\"type\":\"BasicTickFormatter\"},\"plot\":{\"id\":\"1566\",\"subtype\":\"Figure\",\"type\":\"Plot\"},\"ticker\":{\"id\":\"1582\",\"type\":\"BasicTicker\"}},\"id\":\"1581\",\"type\":\"LinearAxis\"},{\"attributes\":{\"data_source\":{\"id\":\"1601\",\"type\":\"ColumnDataSource\"},\"glyph\":{\"id\":\"1602\",\"type\":\"Line\"},\"hover_glyph\":null,\"muted_glyph\":null,\"nonselection_glyph\":{\"id\":\"1603\",\"type\":\"Line\"},\"selection_glyph\":null,\"view\":{\"id\":\"1605\",\"type\":\"CDSView\"}},\"id\":\"1604\",\"type\":\"GlyphRenderer\"},{\"attributes\":{\"callback\":null,\"data\":{\"x\":{\"__ndarray__\":\"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\",\"dtype\":\"float64\",\"shape\":[248]},\"y\":{\"__ndarray__\":\"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\",\"dtype\":\"float64\",\"shape\":[248]}},\"selected\":{\"id\":\"1664\",\"type\":\"Selection\"},\"selection_policy\":{\"id\":\"1663\",\"type\":\"UnionRenderers\"}},\"id\":\"1601\",\"type\":\"ColumnDataSource\"},{\"attributes\":{\"months\":[0,2,4,6,8,10]},\"id\":\"1659\",\"type\":\"MonthsTicker\"},{\"attributes\":{\"base\":60,\"mantissas\":[1,2,5,10,15,20,30],\"max_interval\":1800000.0,\"min_interval\":1000.0,\"num_minor_ticks\":0},\"id\":\"1652\",\"type\":\"AdaptiveTicker\"},{\"attributes\":{\"months\":[0,6]},\"id\":\"1661\",\"type\":\"MonthsTicker\"},{\"attributes\":{\"mantissas\":[1,2,5],\"max_interval\":500.0,\"num_minor_ticks\":0},\"id\":\"1651\",\"type\":\"AdaptiveTicker\"},{\"attributes\":{},\"id\":\"1587\",\"type\":\"WheelZoomTool\"},{\"attributes\":{\"days\":[1,4,7,10,13,16,19,22,25,28]},\"id\":\"1655\",\"type\":\"DaysTicker\"},{\"attributes\":{},\"id\":\"1586\",\"type\":\"PanTool\"},{\"attributes\":{},\"id\":\"1589\",\"type\":\"SaveTool\"},{\"attributes\":{\"active_drag\":\"auto\",\"active_inspect\":\"auto\",\"active_multi\":null,\"active_scroll\":\"auto\",\"active_tap\":\"auto\",\"tools\":[{\"id\":\"1586\",\"type\":\"PanTool\"},{\"id\":\"1587\",\"type\":\"WheelZoomTool\"},{\"id\":\"1588\",\"type\":\"BoxZoomTool\"},{\"id\":\"1589\",\"type\":\"SaveTool\"},{\"id\":\"1590\",\"type\":\"ResetTool\"},{\"id\":\"1591\",\"type\":\"HelpTool\"}]},\"id\":\"1592\",\"type\":\"Toolbar\"},{\"attributes\":{},\"id\":\"1664\",\"type\":\"Selection\"},{\"attributes\":{\"months\":[0,1,2,3,4,5,6,7,8,9,10,11]},\"id\":\"1658\",\"type\":\"MonthsTicker\"},{\"attributes\":{\"overlay\":{\"id\":\"1594\",\"type\":\"BoxAnnotation\"}},\"id\":\"1588\",\"type\":\"BoxZoomTool\"},{\"attributes\":{\"source\":{\"id\":\"1601\",\"type\":\"ColumnDataSource\"}},\"id\":\"1605\",\"type\":\"CDSView\"},{\"attributes\":{\"plot\":null,\"text\":\"time series for INFY\"},\"id\":\"1565\",\"type\":\"Title\"},{\"attributes\":{},\"id\":\"1650\",\"type\":\"BasicTickFormatter\"},{\"attributes\":{\"dimension\":1,\"plot\":{\"id\":\"1566\",\"subtype\":\"Figure\",\"type\":\"Plot\"},\"ticker\":{\"id\":\"1582\",\"type\":\"BasicTicker\"}},\"id\":\"1585\",\"type\":\"Grid\"},{\"attributes\":{},\"id\":\"1582\",\"type\":\"BasicTicker\"},{\"attributes\":{\"callback\":null},\"id\":\"1568\",\"type\":\"DataRange1d\"},{\"attributes\":{\"base\":24,\"mantissas\":[1,2,4,6,8,12],\"max_interval\":43200000.0,\"min_interval\":3600000.0,\"num_minor_ticks\":0},\"id\":\"1653\",\"type\":\"AdaptiveTicker\"},{\"attributes\":{\"callback\":null},\"id\":\"1570\",\"type\":\"DataRange1d\"},{\"attributes\":{\"line_alpha\":0.1,\"line_color\":\"#1f77b4\",\"x\":{\"field\":\"x\"},\"y\":{\"field\":\"y\"}},\"id\":\"1603\",\"type\":\"Line\"}],\"root_ids\":[\"1566\"]},\"title\":\"Bokeh Application\",\"version\":\"1.0.4\"}};\n",
              "  var render_items = [{\"docid\":\"78205ccf-103a-4d03-ac7e-fe0f392a6a1a\",\"roots\":{\"1566\":\"1a1ca832-ed36-41a8-b7a3-7a513eec794e\"}}];\n",
              "  root.Bokeh.embed.embed_items_notebook(docs_json, render_items);\n",
              "\n",
              "  }\n",
              "  if (root.Bokeh !== undefined) {\n",
              "    embed_document(root);\n",
              "  } else {\n",
              "    var attempts = 0;\n",
              "    var timer = setInterval(function(root) {\n",
              "      if (root.Bokeh !== undefined) {\n",
              "        embed_document(root);\n",
              "        clearInterval(timer);\n",
              "      }\n",
              "      attempts++;\n",
              "      if (attempts > 100) {\n",
              "        console.log(\"Bokeh: ERROR: Unable to run BokehJS code because BokehJS library is missing\");\n",
              "        clearInterval(timer);\n",
              "      }\n",
              "    }, 10, root)\n",
              "  }\n",
              "})(window);"
            ],
            "application/vnd.bokehjs_exec.v0+json": ""
          },
          "metadata": {
            "tags": [],
            "application/vnd.bokehjs_exec.v0+json": {
              "id": "1566"
            }
          }
        }
      ]
    },
    {
      "metadata": {
        "id": "teJOX2jiWIHa",
        "colab_type": "text"
      },
      "cell_type": "markdown",
      "source": [
        "#### Part 2.3"
      ]
    },
    {
      "metadata": {
        "id": "9ZHTIKNAg_1J",
        "colab_type": "code",
        "outputId": "3d4e5027-9eb7-4fbf-f095-8827c72c83c4",
        "colab": {
          "base_uri": "https://localhost:8080/",
          "height": 17
        }
      },
      "cell_type": "code",
      "source": [
        "color = {0:'blue',1:'red'}\n",
        "colors = [color[x] for x in infy['vol_shock']] \n",
        "\n",
        "p = figure(plot_width=800, plot_height=250, title = 'timeseries between two volume shocks in a different color', x_axis_type=\"datetime\")\n",
        "p.circle(infy.index, infy['Close'], color=colors, alpha=0.5)\n",
        "show(p)\n",
        "output_file(\"B.html\")"
      ],
      "execution_count": 0,
      "outputs": [
        {
          "output_type": "display_data",
          "data": {
            "text/html": [
              "\n",
              "\n",
              "\n",
              "\n",
              "\n",
              "\n",
              "  <div class=\"bk-root\" id=\"a1885ec2-a4ac-4745-9460-99e72e15450a\" data-root-id=\"2390\"></div>\n"
            ]
          },
          "metadata": {
            "tags": []
          }
        },
        {
          "output_type": "display_data",
          "data": {
            "application/javascript": [
              "(function(root) {\n",
              "  function embed_document(root) {\n",
              "    \n",
              "  var docs_json = {\"dae03674-d0e9-4f6c-9615-93e885203c59\":{\"roots\":{\"references\":[{\"attributes\":{\"below\":[{\"id\":\"2400\",\"type\":\"DatetimeAxis\"}],\"left\":[{\"id\":\"2405\",\"type\":\"LinearAxis\"}],\"plot_height\":250,\"plot_width\":800,\"renderers\":[{\"id\":\"2400\",\"type\":\"DatetimeAxis\"},{\"id\":\"2404\",\"type\":\"Grid\"},{\"id\":\"2405\",\"type\":\"LinearAxis\"},{\"id\":\"2409\",\"type\":\"Grid\"},{\"id\":\"2418\",\"type\":\"BoxAnnotation\"},{\"id\":\"2428\",\"type\":\"GlyphRenderer\"}],\"title\":{\"id\":\"2389\",\"type\":\"Title\"},\"toolbar\":{\"id\":\"2416\",\"type\":\"Toolbar\"},\"x_range\":{\"id\":\"2392\",\"type\":\"DataRange1d\"},\"x_scale\":{\"id\":\"2396\",\"type\":\"LinearScale\"},\"y_range\":{\"id\":\"2394\",\"type\":\"DataRange1d\"},\"y_scale\":{\"id\":\"2398\",\"type\":\"LinearScale\"}},\"id\":\"2390\",\"subtype\":\"Figure\",\"type\":\"Plot\"},{\"attributes\":{\"months\":[0,2,4,6,8,10]},\"id\":\"2523\",\"type\":\"MonthsTicker\"},{\"attributes\":{\"source\":{\"id\":\"2425\",\"type\":\"ColumnDataSource\"}},\"id\":\"2429\",\"type\":\"CDSView\"},{\"attributes\":{\"months\":[0,4,8]},\"id\":\"2524\",\"type\":\"MonthsTicker\"},{\"attributes\":{\"active_drag\":\"auto\",\"active_inspect\":\"auto\",\"active_multi\":null,\"active_scroll\":\"auto\",\"active_tap\":\"auto\",\"tools\":[{\"id\":\"2410\",\"type\":\"PanTool\"},{\"id\":\"2411\",\"type\":\"WheelZoomTool\"},{\"id\":\"2412\",\"type\":\"BoxZoomTool\"},{\"id\":\"2413\",\"type\":\"SaveTool\"},{\"id\":\"2414\",\"type\":\"ResetTool\"},{\"id\":\"2415\",\"type\":\"HelpTool\"}]},\"id\":\"2416\",\"type\":\"Toolbar\"},{\"attributes\":{\"months\":[0,6]},\"id\":\"2525\",\"type\":\"MonthsTicker\"},{\"attributes\":{},\"id\":\"2410\",\"type\":\"PanTool\"},{\"attributes\":{},\"id\":\"2526\",\"type\":\"YearsTicker\"},{\"attributes\":{},\"id\":\"2411\",\"type\":\"WheelZoomTool\"},{\"attributes\":{},\"id\":\"2527\",\"type\":\"UnionRenderers\"},{\"attributes\":{\"overlay\":{\"id\":\"2418\",\"type\":\"BoxAnnotation\"}},\"id\":\"2412\",\"type\":\"BoxZoomTool\"},{\"attributes\":{},\"id\":\"2528\",\"type\":\"Selection\"},{\"attributes\":{},\"id\":\"2413\",\"type\":\"SaveTool\"},{\"attributes\":{\"callback\":null},\"id\":\"2394\",\"type\":\"DataRange1d\"},{\"attributes\":{},\"id\":\"2414\",\"type\":\"ResetTool\"},{\"attributes\":{},\"id\":\"2406\",\"type\":\"BasicTicker\"},{\"attributes\":{},\"id\":\"2415\",\"type\":\"HelpTool\"},{\"attributes\":{\"fill_alpha\":{\"value\":0.5},\"fill_color\":{\"field\":\"fill_color\"},\"line_alpha\":{\"value\":0.5},\"line_color\":{\"field\":\"line_color\"},\"x\":{\"field\":\"x\"},\"y\":{\"field\":\"y\"}},\"id\":\"2426\",\"type\":\"Circle\"},{\"attributes\":{\"callback\":null,\"data\":{\"fill_color\":[\"blue\",\"red\",\"red\",\"blue\",\"red\",\"red\",\"red\",\"red\",\"red\",\"red\",\"red\",\"red\",\"red\",\"red\",\"red\",\"red\",\"blue\",\"red\",\"blue\",\"red\",\"red\",\"red\",\"red\",\"blue\",\"red\",\"red\",\"red\",\"red\",\"red\",\"blue\",\"red\",\"blue\",\"red\",\"red\",\"red\",\"red\",\"red\",\"blue\",\"blue\",\"red\",\"red\",\"red\",\"red\",\"red\",\"red\",\"red\",\"red\",\"blue\",\"red\",\"blue\",\"blue\",\"red\",\"red\",\"red\",\"blue\",\"red\",\"red\",\"blue\",\"red\",\"red\",\"red\",\"red\",\"red\",\"red\",\"blue\",\"red\",\"blue\",\"red\",\"red\",\"red\",\"red\",\"red\",\"red\",\"red\",\"red\",\"blue\",\"red\",\"red\",\"red\",\"red\",\"red\",\"blue\",\"red\",\"red\",\"red\",\"red\",\"red\",\"red\",\"red\",\"red\",\"red\",\"red\",\"red\",\"red\",\"red\",\"red\",\"red\",\"red\",\"red\",\"red\",\"red\",\"red\",\"red\",\"red\",\"red\",\"red\",\"blue\",\"red\",\"red\",\"red\",\"blue\",\"blue\",\"blue\",\"red\",\"red\",\"red\",\"red\",\"red\",\"blue\",\"blue\",\"red\",\"blue\",\"blue\",\"blue\",\"red\",\"red\",\"red\",\"red\",\"red\",\"red\",\"red\",\"red\",\"red\",\"red\",\"red\",\"blue\",\"red\",\"red\",\"red\",\"red\",\"red\",\"red\",\"red\",\"red\",\"red\",\"red\",\"blue\",\"red\",\"red\",\"red\",\"red\",\"red\",\"red\",\"red\",\"blue\",\"red\",\"red\",\"red\",\"red\",\"red\",\"red\",\"red\",\"blue\",\"red\",\"red\",\"red\",\"red\",\"blue\",\"red\",\"red\",\"red\",\"red\",\"blue\",\"red\",\"blue\",\"red\",\"red\",\"red\",\"red\",\"red\",\"red\",\"red\",\"red\",\"red\",\"red\",\"red\",\"blue\",\"red\",\"red\",\"red\",\"blue\",\"blue\",\"red\",\"red\",\"red\",\"red\",\"blue\",\"red\",\"red\",\"red\",\"red\",\"red\",\"red\",\"red\",\"blue\",\"red\",\"red\",\"red\",\"blue\",\"red\",\"red\",\"red\",\"red\",\"red\",\"red\",\"red\",\"red\",\"blue\",\"red\",\"red\",\"red\",\"blue\",\"red\",\"red\",\"red\",\"red\",\"red\",\"blue\",\"red\",\"red\",\"red\",\"red\",\"red\",\"red\",\"blue\",\"red\",\"red\",\"blue\",\"red\",\"red\",\"red\",\"blue\",\"red\",\"red\",\"red\",\"red\",\"red\",\"red\"],\"line_color\":[\"blue\",\"red\",\"red\",\"blue\",\"red\",\"red\",\"red\",\"red\",\"red\",\"red\",\"red\",\"red\",\"red\",\"red\",\"red\",\"red\",\"blue\",\"red\",\"blue\",\"red\",\"red\",\"red\",\"red\",\"blue\",\"red\",\"red\",\"red\",\"red\",\"red\",\"blue\",\"red\",\"blue\",\"red\",\"red\",\"red\",\"red\",\"red\",\"blue\",\"blue\",\"red\",\"red\",\"red\",\"red\",\"red\",\"red\",\"red\",\"red\",\"blue\",\"red\",\"blue\",\"blue\",\"red\",\"red\",\"red\",\"blue\",\"red\",\"red\",\"blue\",\"red\",\"red\",\"red\",\"red\",\"red\",\"red\",\"blue\",\"red\",\"blue\",\"red\",\"red\",\"red\",\"red\",\"red\",\"red\",\"red\",\"red\",\"blue\",\"red\",\"red\",\"red\",\"red\",\"red\",\"blue\",\"red\",\"red\",\"red\",\"red\",\"red\",\"red\",\"red\",\"red\",\"red\",\"red\",\"red\",\"red\",\"red\",\"red\",\"red\",\"red\",\"red\",\"red\",\"red\",\"red\",\"red\",\"red\",\"red\",\"red\",\"blue\",\"red\",\"red\",\"red\",\"blue\",\"blue\",\"blue\",\"red\",\"red\",\"red\",\"red\",\"red\",\"blue\",\"blue\",\"red\",\"blue\",\"blue\",\"blue\",\"red\",\"red\",\"red\",\"red\",\"red\",\"red\",\"red\",\"red\",\"red\",\"red\",\"red\",\"blue\",\"red\",\"red\",\"red\",\"red\",\"red\",\"red\",\"red\",\"red\",\"red\",\"red\",\"blue\",\"red\",\"red\",\"red\",\"red\",\"red\",\"red\",\"red\",\"blue\",\"red\",\"red\",\"red\",\"red\",\"red\",\"red\",\"red\",\"blue\",\"red\",\"red\",\"red\",\"red\",\"blue\",\"red\",\"red\",\"red\",\"red\",\"blue\",\"red\",\"blue\",\"red\",\"red\",\"red\",\"red\",\"red\",\"red\",\"red\",\"red\",\"red\",\"red\",\"red\",\"blue\",\"red\",\"red\",\"red\",\"blue\",\"blue\",\"red\",\"red\",\"red\",\"red\",\"blue\",\"red\",\"red\",\"red\",\"red\",\"red\",\"red\",\"red\",\"blue\",\"red\",\"red\",\"red\",\"blue\",\"red\",\"red\",\"red\",\"red\",\"red\",\"red\",\"red\",\"red\",\"blue\",\"red\",\"red\",\"red\",\"blue\",\"red\",\"red\",\"red\",\"red\",\"red\",\"blue\",\"red\",\"red\",\"red\",\"red\",\"red\",\"red\",\"blue\",\"red\",\"red\",\"blue\",\"red\",\"red\",\"red\",\"blue\",\"red\",\"red\",\"red\",\"red\",\"red\",\"red\"],\"x\":{\"__ndarray__\":\"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\",\"dtype\":\"float64\",\"shape\":[248]},\"y\":{\"__ndarray__\":\"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\",\"dtype\":\"float64\",\"shape\":[248]}},\"selected\":{\"id\":\"2528\",\"type\":\"Selection\"},\"selection_policy\":{\"id\":\"2527\",\"type\":\"UnionRenderers\"}},\"id\":\"2425\",\"type\":\"ColumnDataSource\"},{\"attributes\":{\"plot\":null,\"text\":\"timeseries between two volume shocks in a different color\"},\"id\":\"2389\",\"type\":\"Title\"},{\"attributes\":{\"dimension\":1,\"plot\":{\"id\":\"2390\",\"subtype\":\"Figure\",\"type\":\"Plot\"},\"ticker\":{\"id\":\"2406\",\"type\":\"BasicTicker\"}},\"id\":\"2409\",\"type\":\"Grid\"},{\"attributes\":{\"bottom_units\":\"screen\",\"fill_alpha\":{\"value\":0.5},\"fill_color\":{\"value\":\"lightgrey\"},\"left_units\":\"screen\",\"level\":\"overlay\",\"line_alpha\":{\"value\":1.0},\"line_color\":{\"value\":\"black\"},\"line_dash\":[4,4],\"line_width\":{\"value\":2},\"plot\":null,\"render_mode\":\"css\",\"right_units\":\"screen\",\"top_units\":\"screen\"},\"id\":\"2418\",\"type\":\"BoxAnnotation\"},{\"attributes\":{\"num_minor_ticks\":5,\"tickers\":[{\"id\":\"2515\",\"type\":\"AdaptiveTicker\"},{\"id\":\"2516\",\"type\":\"AdaptiveTicker\"},{\"id\":\"2517\",\"type\":\"AdaptiveTicker\"},{\"id\":\"2518\",\"type\":\"DaysTicker\"},{\"id\":\"2519\",\"type\":\"DaysTicker\"},{\"id\":\"2520\",\"type\":\"DaysTicker\"},{\"id\":\"2521\",\"type\":\"DaysTicker\"},{\"id\":\"2522\",\"type\":\"MonthsTicker\"},{\"id\":\"2523\",\"type\":\"MonthsTicker\"},{\"id\":\"2524\",\"type\":\"MonthsTicker\"},{\"id\":\"2525\",\"type\":\"MonthsTicker\"},{\"id\":\"2526\",\"type\":\"YearsTicker\"}]},\"id\":\"2401\",\"type\":\"DatetimeTicker\"},{\"attributes\":{\"fill_alpha\":{\"value\":0.1},\"fill_color\":{\"value\":\"#1f77b4\"},\"line_alpha\":{\"value\":0.1},\"line_color\":{\"value\":\"#1f77b4\"},\"x\":{\"field\":\"x\"},\"y\":{\"field\":\"y\"}},\"id\":\"2427\",\"type\":\"Circle\"},{\"attributes\":{\"base\":60,\"mantissas\":[1,2,5,10,15,20,30],\"max_interval\":1800000.0,\"min_interval\":1000.0,\"num_minor_ticks\":0},\"id\":\"2516\",\"type\":\"AdaptiveTicker\"},{\"attributes\":{\"base\":24,\"mantissas\":[1,2,4,6,8,12],\"max_interval\":43200000.0,\"min_interval\":3600000.0,\"num_minor_ticks\":0},\"id\":\"2517\",\"type\":\"AdaptiveTicker\"},{\"attributes\":{\"callback\":null},\"id\":\"2392\",\"type\":\"DataRange1d\"},{\"attributes\":{\"formatter\":{\"id\":\"2512\",\"type\":\"DatetimeTickFormatter\"},\"plot\":{\"id\":\"2390\",\"subtype\":\"Figure\",\"type\":\"Plot\"},\"ticker\":{\"id\":\"2401\",\"type\":\"DatetimeTicker\"}},\"id\":\"2400\",\"type\":\"DatetimeAxis\"},{\"attributes\":{},\"id\":\"2514\",\"type\":\"BasicTickFormatter\"},{\"attributes\":{\"days\":[1,2,3,4,5,6,7,8,9,10,11,12,13,14,15,16,17,18,19,20,21,22,23,24,25,26,27,28,29,30,31]},\"id\":\"2518\",\"type\":\"DaysTicker\"},{\"attributes\":{\"plot\":{\"id\":\"2390\",\"subtype\":\"Figure\",\"type\":\"Plot\"},\"ticker\":{\"id\":\"2401\",\"type\":\"DatetimeTicker\"}},\"id\":\"2404\",\"type\":\"Grid\"},{\"attributes\":{},\"id\":\"2398\",\"type\":\"LinearScale\"},{\"attributes\":{\"data_source\":{\"id\":\"2425\",\"type\":\"ColumnDataSource\"},\"glyph\":{\"id\":\"2426\",\"type\":\"Circle\"},\"hover_glyph\":null,\"muted_glyph\":null,\"nonselection_glyph\":{\"id\":\"2427\",\"type\":\"Circle\"},\"selection_glyph\":null,\"view\":{\"id\":\"2429\",\"type\":\"CDSView\"}},\"id\":\"2428\",\"type\":\"GlyphRenderer\"},{\"attributes\":{\"days\":[1,4,7,10,13,16,19,22,25,28]},\"id\":\"2519\",\"type\":\"DaysTicker\"},{\"attributes\":{},\"id\":\"2512\",\"type\":\"DatetimeTickFormatter\"},{\"attributes\":{\"days\":[1,8,15,22]},\"id\":\"2520\",\"type\":\"DaysTicker\"},{\"attributes\":{\"formatter\":{\"id\":\"2514\",\"type\":\"BasicTickFormatter\"},\"plot\":{\"id\":\"2390\",\"subtype\":\"Figure\",\"type\":\"Plot\"},\"ticker\":{\"id\":\"2406\",\"type\":\"BasicTicker\"}},\"id\":\"2405\",\"type\":\"LinearAxis\"},{\"attributes\":{\"mantissas\":[1,2,5],\"max_interval\":500.0,\"num_minor_ticks\":0},\"id\":\"2515\",\"type\":\"AdaptiveTicker\"},{\"attributes\":{\"days\":[1,15]},\"id\":\"2521\",\"type\":\"DaysTicker\"},{\"attributes\":{},\"id\":\"2396\",\"type\":\"LinearScale\"},{\"attributes\":{\"months\":[0,1,2,3,4,5,6,7,8,9,10,11]},\"id\":\"2522\",\"type\":\"MonthsTicker\"}],\"root_ids\":[\"2390\"]},\"title\":\"Bokeh Application\",\"version\":\"1.0.4\"}};\n",
              "  var render_items = [{\"docid\":\"dae03674-d0e9-4f6c-9615-93e885203c59\",\"roots\":{\"2390\":\"a1885ec2-a4ac-4745-9460-99e72e15450a\"}}];\n",
              "  root.Bokeh.embed.embed_items_notebook(docs_json, render_items);\n",
              "\n",
              "  }\n",
              "  if (root.Bokeh !== undefined) {\n",
              "    embed_document(root);\n",
              "  } else {\n",
              "    var attempts = 0;\n",
              "    var timer = setInterval(function(root) {\n",
              "      if (root.Bokeh !== undefined) {\n",
              "        embed_document(root);\n",
              "        clearInterval(timer);\n",
              "      }\n",
              "      attempts++;\n",
              "      if (attempts > 100) {\n",
              "        console.log(\"Bokeh: ERROR: Unable to run BokehJS code because BokehJS library is missing\");\n",
              "        clearInterval(timer);\n",
              "      }\n",
              "    }, 10, root)\n",
              "  }\n",
              "})(window);"
            ],
            "application/vnd.bokehjs_exec.v0+json": ""
          },
          "metadata": {
            "tags": [],
            "application/vnd.bokehjs_exec.v0+json": {
              "id": "2390"
            }
          }
        }
      ]
    },
    {
      "metadata": {
        "id": "x9T-shj1WKjM",
        "colab_type": "text"
      },
      "cell_type": "markdown",
      "source": [
        "#### Part 2.4"
      ]
    },
    {
      "metadata": {
        "id": "fUX9eKcKxB3E",
        "colab_type": "code",
        "outputId": "34789440-a8b5-4d1c-b55e-9a79a3cad382",
        "colab": {
          "base_uri": "https://localhost:8080/",
          "height": 1646
        }
      },
      "cell_type": "code",
      "source": [
        "week_avg_52 = pd.DataFrame(week_mov_avg(infy_df,52))\n",
        "week_avg_52"
      ],
      "execution_count": 0,
      "outputs": [
        {
          "output_type": "execute_result",
          "data": {
            "text/html": [
              "<div>\n",
              "<style scoped>\n",
              "    .dataframe tbody tr th:only-of-type {\n",
              "        vertical-align: middle;\n",
              "    }\n",
              "\n",
              "    .dataframe tbody tr th {\n",
              "        vertical-align: top;\n",
              "    }\n",
              "\n",
              "    .dataframe thead th {\n",
              "        text-align: right;\n",
              "    }\n",
              "</style>\n",
              "<table border=\"1\" class=\"dataframe\">\n",
              "  <thead>\n",
              "    <tr style=\"text-align: right;\">\n",
              "      <th></th>\n",
              "      <th>Close</th>\n",
              "      <th>Close_backfilled</th>\n",
              "    </tr>\n",
              "    <tr>\n",
              "      <th>Date</th>\n",
              "      <th></th>\n",
              "      <th></th>\n",
              "    </tr>\n",
              "  </thead>\n",
              "  <tbody>\n",
              "    <tr>\n",
              "      <th>2015-01-04</th>\n",
              "      <td>NaN</td>\n",
              "      <td>1562.498125</td>\n",
              "    </tr>\n",
              "    <tr>\n",
              "      <th>2015-01-11</th>\n",
              "      <td>NaN</td>\n",
              "      <td>1562.498125</td>\n",
              "    </tr>\n",
              "    <tr>\n",
              "      <th>2015-01-18</th>\n",
              "      <td>NaN</td>\n",
              "      <td>1562.498125</td>\n",
              "    </tr>\n",
              "    <tr>\n",
              "      <th>2015-01-25</th>\n",
              "      <td>NaN</td>\n",
              "      <td>1562.498125</td>\n",
              "    </tr>\n",
              "    <tr>\n",
              "      <th>2015-02-01</th>\n",
              "      <td>NaN</td>\n",
              "      <td>1562.498125</td>\n",
              "    </tr>\n",
              "    <tr>\n",
              "      <th>2015-02-08</th>\n",
              "      <td>NaN</td>\n",
              "      <td>1562.498125</td>\n",
              "    </tr>\n",
              "    <tr>\n",
              "      <th>2015-02-15</th>\n",
              "      <td>NaN</td>\n",
              "      <td>1562.498125</td>\n",
              "    </tr>\n",
              "    <tr>\n",
              "      <th>2015-02-22</th>\n",
              "      <td>NaN</td>\n",
              "      <td>1562.498125</td>\n",
              "    </tr>\n",
              "    <tr>\n",
              "      <th>2015-03-01</th>\n",
              "      <td>NaN</td>\n",
              "      <td>1562.498125</td>\n",
              "    </tr>\n",
              "    <tr>\n",
              "      <th>2015-03-08</th>\n",
              "      <td>NaN</td>\n",
              "      <td>1562.498125</td>\n",
              "    </tr>\n",
              "    <tr>\n",
              "      <th>2015-03-15</th>\n",
              "      <td>NaN</td>\n",
              "      <td>1562.498125</td>\n",
              "    </tr>\n",
              "    <tr>\n",
              "      <th>2015-03-22</th>\n",
              "      <td>NaN</td>\n",
              "      <td>1562.498125</td>\n",
              "    </tr>\n",
              "    <tr>\n",
              "      <th>2015-03-29</th>\n",
              "      <td>NaN</td>\n",
              "      <td>1562.498125</td>\n",
              "    </tr>\n",
              "    <tr>\n",
              "      <th>2015-04-05</th>\n",
              "      <td>NaN</td>\n",
              "      <td>1562.498125</td>\n",
              "    </tr>\n",
              "    <tr>\n",
              "      <th>2015-04-12</th>\n",
              "      <td>NaN</td>\n",
              "      <td>1562.498125</td>\n",
              "    </tr>\n",
              "    <tr>\n",
              "      <th>2015-04-19</th>\n",
              "      <td>NaN</td>\n",
              "      <td>1562.498125</td>\n",
              "    </tr>\n",
              "    <tr>\n",
              "      <th>2015-04-26</th>\n",
              "      <td>NaN</td>\n",
              "      <td>1562.498125</td>\n",
              "    </tr>\n",
              "    <tr>\n",
              "      <th>2015-05-03</th>\n",
              "      <td>NaN</td>\n",
              "      <td>1562.498125</td>\n",
              "    </tr>\n",
              "    <tr>\n",
              "      <th>2015-05-10</th>\n",
              "      <td>NaN</td>\n",
              "      <td>1562.498125</td>\n",
              "    </tr>\n",
              "    <tr>\n",
              "      <th>2015-05-17</th>\n",
              "      <td>NaN</td>\n",
              "      <td>1562.498125</td>\n",
              "    </tr>\n",
              "    <tr>\n",
              "      <th>2015-05-24</th>\n",
              "      <td>NaN</td>\n",
              "      <td>1562.498125</td>\n",
              "    </tr>\n",
              "    <tr>\n",
              "      <th>2015-05-31</th>\n",
              "      <td>NaN</td>\n",
              "      <td>1562.498125</td>\n",
              "    </tr>\n",
              "    <tr>\n",
              "      <th>2015-06-07</th>\n",
              "      <td>NaN</td>\n",
              "      <td>1562.498125</td>\n",
              "    </tr>\n",
              "    <tr>\n",
              "      <th>2015-06-14</th>\n",
              "      <td>NaN</td>\n",
              "      <td>1562.498125</td>\n",
              "    </tr>\n",
              "    <tr>\n",
              "      <th>2015-06-21</th>\n",
              "      <td>NaN</td>\n",
              "      <td>1562.498125</td>\n",
              "    </tr>\n",
              "    <tr>\n",
              "      <th>2015-06-28</th>\n",
              "      <td>NaN</td>\n",
              "      <td>1562.498125</td>\n",
              "    </tr>\n",
              "    <tr>\n",
              "      <th>2015-07-05</th>\n",
              "      <td>NaN</td>\n",
              "      <td>1562.498125</td>\n",
              "    </tr>\n",
              "    <tr>\n",
              "      <th>2015-07-12</th>\n",
              "      <td>NaN</td>\n",
              "      <td>1562.498125</td>\n",
              "    </tr>\n",
              "    <tr>\n",
              "      <th>2015-07-19</th>\n",
              "      <td>NaN</td>\n",
              "      <td>1562.498125</td>\n",
              "    </tr>\n",
              "    <tr>\n",
              "      <th>2015-07-26</th>\n",
              "      <td>NaN</td>\n",
              "      <td>1562.498125</td>\n",
              "    </tr>\n",
              "    <tr>\n",
              "      <th>2015-08-02</th>\n",
              "      <td>NaN</td>\n",
              "      <td>1562.498125</td>\n",
              "    </tr>\n",
              "    <tr>\n",
              "      <th>2015-08-09</th>\n",
              "      <td>NaN</td>\n",
              "      <td>1562.498125</td>\n",
              "    </tr>\n",
              "    <tr>\n",
              "      <th>2015-08-16</th>\n",
              "      <td>NaN</td>\n",
              "      <td>1562.498125</td>\n",
              "    </tr>\n",
              "    <tr>\n",
              "      <th>2015-08-23</th>\n",
              "      <td>NaN</td>\n",
              "      <td>1562.498125</td>\n",
              "    </tr>\n",
              "    <tr>\n",
              "      <th>2015-08-30</th>\n",
              "      <td>NaN</td>\n",
              "      <td>1562.498125</td>\n",
              "    </tr>\n",
              "    <tr>\n",
              "      <th>2015-09-06</th>\n",
              "      <td>NaN</td>\n",
              "      <td>1562.498125</td>\n",
              "    </tr>\n",
              "    <tr>\n",
              "      <th>2015-09-13</th>\n",
              "      <td>NaN</td>\n",
              "      <td>1562.498125</td>\n",
              "    </tr>\n",
              "    <tr>\n",
              "      <th>2015-09-20</th>\n",
              "      <td>NaN</td>\n",
              "      <td>1562.498125</td>\n",
              "    </tr>\n",
              "    <tr>\n",
              "      <th>2015-09-27</th>\n",
              "      <td>NaN</td>\n",
              "      <td>1562.498125</td>\n",
              "    </tr>\n",
              "    <tr>\n",
              "      <th>2015-10-04</th>\n",
              "      <td>NaN</td>\n",
              "      <td>1562.498125</td>\n",
              "    </tr>\n",
              "    <tr>\n",
              "      <th>2015-10-11</th>\n",
              "      <td>NaN</td>\n",
              "      <td>1562.498125</td>\n",
              "    </tr>\n",
              "    <tr>\n",
              "      <th>2015-10-18</th>\n",
              "      <td>NaN</td>\n",
              "      <td>1562.498125</td>\n",
              "    </tr>\n",
              "    <tr>\n",
              "      <th>2015-10-25</th>\n",
              "      <td>NaN</td>\n",
              "      <td>1562.498125</td>\n",
              "    </tr>\n",
              "    <tr>\n",
              "      <th>2015-11-01</th>\n",
              "      <td>NaN</td>\n",
              "      <td>1562.498125</td>\n",
              "    </tr>\n",
              "    <tr>\n",
              "      <th>2015-11-08</th>\n",
              "      <td>NaN</td>\n",
              "      <td>1562.498125</td>\n",
              "    </tr>\n",
              "    <tr>\n",
              "      <th>2015-11-15</th>\n",
              "      <td>NaN</td>\n",
              "      <td>1562.498125</td>\n",
              "    </tr>\n",
              "    <tr>\n",
              "      <th>2015-11-22</th>\n",
              "      <td>NaN</td>\n",
              "      <td>1562.498125</td>\n",
              "    </tr>\n",
              "    <tr>\n",
              "      <th>2015-11-29</th>\n",
              "      <td>NaN</td>\n",
              "      <td>1562.498125</td>\n",
              "    </tr>\n",
              "    <tr>\n",
              "      <th>2015-12-06</th>\n",
              "      <td>NaN</td>\n",
              "      <td>1562.498125</td>\n",
              "    </tr>\n",
              "    <tr>\n",
              "      <th>2015-12-13</th>\n",
              "      <td>NaN</td>\n",
              "      <td>1562.498125</td>\n",
              "    </tr>\n",
              "    <tr>\n",
              "      <th>2015-12-20</th>\n",
              "      <td>NaN</td>\n",
              "      <td>1562.498125</td>\n",
              "    </tr>\n",
              "    <tr>\n",
              "      <th>2015-12-27</th>\n",
              "      <td>1562.498125</td>\n",
              "      <td>1562.498125</td>\n",
              "    </tr>\n",
              "    <tr>\n",
              "      <th>2016-01-03</th>\n",
              "      <td>1545.315192</td>\n",
              "      <td>1545.315192</td>\n",
              "    </tr>\n",
              "  </tbody>\n",
              "</table>\n",
              "</div>"
            ],
            "text/plain": [
              "                  Close  Close_backfilled\n",
              "Date                                     \n",
              "2015-01-04          NaN       1562.498125\n",
              "2015-01-11          NaN       1562.498125\n",
              "2015-01-18          NaN       1562.498125\n",
              "2015-01-25          NaN       1562.498125\n",
              "2015-02-01          NaN       1562.498125\n",
              "2015-02-08          NaN       1562.498125\n",
              "2015-02-15          NaN       1562.498125\n",
              "2015-02-22          NaN       1562.498125\n",
              "2015-03-01          NaN       1562.498125\n",
              "2015-03-08          NaN       1562.498125\n",
              "2015-03-15          NaN       1562.498125\n",
              "2015-03-22          NaN       1562.498125\n",
              "2015-03-29          NaN       1562.498125\n",
              "2015-04-05          NaN       1562.498125\n",
              "2015-04-12          NaN       1562.498125\n",
              "2015-04-19          NaN       1562.498125\n",
              "2015-04-26          NaN       1562.498125\n",
              "2015-05-03          NaN       1562.498125\n",
              "2015-05-10          NaN       1562.498125\n",
              "2015-05-17          NaN       1562.498125\n",
              "2015-05-24          NaN       1562.498125\n",
              "2015-05-31          NaN       1562.498125\n",
              "2015-06-07          NaN       1562.498125\n",
              "2015-06-14          NaN       1562.498125\n",
              "2015-06-21          NaN       1562.498125\n",
              "2015-06-28          NaN       1562.498125\n",
              "2015-07-05          NaN       1562.498125\n",
              "2015-07-12          NaN       1562.498125\n",
              "2015-07-19          NaN       1562.498125\n",
              "2015-07-26          NaN       1562.498125\n",
              "2015-08-02          NaN       1562.498125\n",
              "2015-08-09          NaN       1562.498125\n",
              "2015-08-16          NaN       1562.498125\n",
              "2015-08-23          NaN       1562.498125\n",
              "2015-08-30          NaN       1562.498125\n",
              "2015-09-06          NaN       1562.498125\n",
              "2015-09-13          NaN       1562.498125\n",
              "2015-09-20          NaN       1562.498125\n",
              "2015-09-27          NaN       1562.498125\n",
              "2015-10-04          NaN       1562.498125\n",
              "2015-10-11          NaN       1562.498125\n",
              "2015-10-18          NaN       1562.498125\n",
              "2015-10-25          NaN       1562.498125\n",
              "2015-11-01          NaN       1562.498125\n",
              "2015-11-08          NaN       1562.498125\n",
              "2015-11-15          NaN       1562.498125\n",
              "2015-11-22          NaN       1562.498125\n",
              "2015-11-29          NaN       1562.498125\n",
              "2015-12-06          NaN       1562.498125\n",
              "2015-12-13          NaN       1562.498125\n",
              "2015-12-20          NaN       1562.498125\n",
              "2015-12-27  1562.498125       1562.498125\n",
              "2016-01-03  1545.315192       1545.315192"
            ]
          },
          "metadata": {
            "tags": []
          },
          "execution_count": 36
        }
      ]
    },
    {
      "metadata": {
        "id": "OZVrgGeium6b",
        "colab_type": "code",
        "outputId": "1b7467dd-f3ad-49ff-b8a3-699412798380",
        "colab": {
          "base_uri": "https://localhost:8080/",
          "height": 17
        }
      },
      "cell_type": "code",
      "source": [
        "data_source = ColumnDataSource({'x':week_avg_52.index,'y':week_avg_52['Close_backfilled']})\n",
        "color_mapper = LinearColorMapper(palette='Blues8', low=min(week_avg_52['Close_backfilled']), high=max(week_avg_52['Close_backfilled']))\n",
        "\n",
        "p = figure(plot_width=800, plot_height=250,title = 'Gradient color in blue spectrum based on difference of 52 week moving average', x_axis_type=\"datetime\")\n",
        "p.scatter(week_avg_52.index,week_avg_52['Close_backfilled'],color={'field': 'y', 'transform': color_mapper})\n",
        "show(p)\n",
        "output_file(\"C.html\")"
      ],
      "execution_count": 0,
      "outputs": [
        {
          "output_type": "display_data",
          "data": {
            "text/html": [
              "\n",
              "\n",
              "\n",
              "\n",
              "\n",
              "\n",
              "  <div class=\"bk-root\" id=\"a0370171-904e-4b81-803d-808c95347ef2\" data-root-id=\"3811\"></div>\n"
            ]
          },
          "metadata": {
            "tags": []
          }
        },
        {
          "output_type": "display_data",
          "data": {
            "application/javascript": [
              "(function(root) {\n",
              "  function embed_document(root) {\n",
              "    \n",
              "  var docs_json = {\"6fb5991f-3adc-475b-bdf0-22d6fb2dd3db\":{\"roots\":{\"references\":[{\"attributes\":{\"below\":[{\"id\":\"3821\",\"type\":\"DatetimeAxis\"}],\"left\":[{\"id\":\"3826\",\"type\":\"LinearAxis\"}],\"plot_height\":250,\"plot_width\":800,\"renderers\":[{\"id\":\"3821\",\"type\":\"DatetimeAxis\"},{\"id\":\"3825\",\"type\":\"Grid\"},{\"id\":\"3826\",\"type\":\"LinearAxis\"},{\"id\":\"3830\",\"type\":\"Grid\"},{\"id\":\"3839\",\"type\":\"BoxAnnotation\"},{\"id\":\"3849\",\"type\":\"GlyphRenderer\"}],\"title\":{\"id\":\"3810\",\"type\":\"Title\"},\"toolbar\":{\"id\":\"3837\",\"type\":\"Toolbar\"},\"x_range\":{\"id\":\"3813\",\"type\":\"DataRange1d\"},\"x_scale\":{\"id\":\"3817\",\"type\":\"LinearScale\"},\"y_range\":{\"id\":\"3815\",\"type\":\"DataRange1d\"},\"y_scale\":{\"id\":\"3819\",\"type\":\"LinearScale\"}},\"id\":\"3811\",\"subtype\":\"Figure\",\"type\":\"Plot\"},{\"attributes\":{\"data_source\":{\"id\":\"3846\",\"type\":\"ColumnDataSource\"},\"glyph\":{\"id\":\"3847\",\"type\":\"Scatter\"},\"hover_glyph\":null,\"muted_glyph\":null,\"nonselection_glyph\":{\"id\":\"3848\",\"type\":\"Scatter\"},\"selection_glyph\":null,\"view\":{\"id\":\"3850\",\"type\":\"CDSView\"}},\"id\":\"3849\",\"type\":\"GlyphRenderer\"},{\"attributes\":{},\"id\":\"3995\",\"type\":\"DatetimeTickFormatter\"},{\"attributes\":{},\"id\":\"3827\",\"type\":\"BasicTicker\"},{\"attributes\":{\"formatter\":{\"id\":\"3997\",\"type\":\"BasicTickFormatter\"},\"plot\":{\"id\":\"3811\",\"subtype\":\"Figure\",\"type\":\"Plot\"},\"ticker\":{\"id\":\"3827\",\"type\":\"BasicTicker\"}},\"id\":\"3826\",\"type\":\"LinearAxis\"},{\"attributes\":{\"days\":[1,8,15,22]},\"id\":\"4003\",\"type\":\"DaysTicker\"},{\"attributes\":{\"callback\":null},\"id\":\"3815\",\"type\":\"DataRange1d\"},{\"attributes\":{\"base\":60,\"mantissas\":[1,2,5,10,15,20,30],\"max_interval\":1800000.0,\"min_interval\":1000.0,\"num_minor_ticks\":0},\"id\":\"3999\",\"type\":\"AdaptiveTicker\"},{\"attributes\":{\"plot\":{\"id\":\"3811\",\"subtype\":\"Figure\",\"type\":\"Plot\"},\"ticker\":{\"id\":\"3822\",\"type\":\"DatetimeTicker\"}},\"id\":\"3825\",\"type\":\"Grid\"},{\"attributes\":{\"source\":{\"id\":\"3846\",\"type\":\"ColumnDataSource\"}},\"id\":\"3850\",\"type\":\"CDSView\"},{\"attributes\":{\"num_minor_ticks\":5,\"tickers\":[{\"id\":\"3998\",\"type\":\"AdaptiveTicker\"},{\"id\":\"3999\",\"type\":\"AdaptiveTicker\"},{\"id\":\"4000\",\"type\":\"AdaptiveTicker\"},{\"id\":\"4001\",\"type\":\"DaysTicker\"},{\"id\":\"4002\",\"type\":\"DaysTicker\"},{\"id\":\"4003\",\"type\":\"DaysTicker\"},{\"id\":\"4004\",\"type\":\"DaysTicker\"},{\"id\":\"4005\",\"type\":\"MonthsTicker\"},{\"id\":\"4006\",\"type\":\"MonthsTicker\"},{\"id\":\"4007\",\"type\":\"MonthsTicker\"},{\"id\":\"4008\",\"type\":\"MonthsTicker\"},{\"id\":\"4009\",\"type\":\"YearsTicker\"}]},\"id\":\"3822\",\"type\":\"DatetimeTicker\"},{\"attributes\":{},\"id\":\"3997\",\"type\":\"BasicTickFormatter\"},{\"attributes\":{\"active_drag\":\"auto\",\"active_inspect\":\"auto\",\"active_multi\":null,\"active_scroll\":\"auto\",\"active_tap\":\"auto\",\"tools\":[{\"id\":\"3831\",\"type\":\"PanTool\"},{\"id\":\"3832\",\"type\":\"WheelZoomTool\"},{\"id\":\"3833\",\"type\":\"BoxZoomTool\"},{\"id\":\"3834\",\"type\":\"SaveTool\"},{\"id\":\"3835\",\"type\":\"ResetTool\"},{\"id\":\"3836\",\"type\":\"HelpTool\"}]},\"id\":\"3837\",\"type\":\"Toolbar\"},{\"attributes\":{\"overlay\":{\"id\":\"3839\",\"type\":\"BoxAnnotation\"}},\"id\":\"3833\",\"type\":\"BoxZoomTool\"},{\"attributes\":{\"callback\":null,\"data\":{\"x\":{\"__ndarray__\":\"AABA3COrdEIAAICkZK10QgAAwGylr3RCAAAANeaxdEIAAED9JrR0QgAAgMVntnRCAADAjai4dEIAAABW6bp0QgAAQB4qvXRCAACA5mq/dEIAAMCuq8F0QgAAAHfsw3RCAABAPy3GdEIAAIAHbsh0QgAAwM+uynRCAAAAmO/MdEIAAEBgMM90QgAAgChx0XRCAADA8LHTdEIAAAC58tV0QgAAQIEz2HRCAACASXTadEIAAMARtdx0QgAAANr13nRCAABAojbhdEIAAIBqd+N0QgAAwDK45XRCAAAA+/jndEIAAEDDOep0QgAAgIt67HRCAADAU7vudEIAAAAc/PB0QgAAQOQ883RCAACArH31dEIAAMB0vvd0QgAAAD3/+XRCAABABUD8dEIAAIDNgP50QgAAwJXBAHVCAAAAXgIDdUIAAEAmQwV1QgAAgO6DB3VCAADAtsQJdUIAAAB/BQx1QgAAQEdGDnVCAACAD4cQdUIAAMDXxxJ1QgAAAKAIFXVCAABAaEkXdUIAAIAwihl1QgAAwPjKG3VCAAAAwQsedUIAAECJTCB1Qg==\",\"dtype\":\"float64\",\"shape\":[53]},\"y\":{\"__ndarray__\":\"S+F6FP5pmEBL4XoU/mmYQEvhehT+aZhAS+F6FP5pmEBL4XoU/mmYQEvhehT+aZhAS+F6FP5pmEBL4XoU/mmYQEvhehT+aZhAS+F6FP5pmEBL4XoU/mmYQEvhehT+aZhAS+F6FP5pmEBL4XoU/mmYQEvhehT+aZhAS+F6FP5pmEBL4XoU/mmYQEvhehT+aZhAS+F6FP5pmEBL4XoU/mmYQEvhehT+aZhAS+F6FP5pmEBL4XoU/mmYQEvhehT+aZhAS+F6FP5pmEBL4XoU/mmYQEvhehT+aZhAS+F6FP5pmEBL4XoU/mmYQEvhehT+aZhAS+F6FP5pmEBL4XoU/mmYQEvhehT+aZhAS+F6FP5pmEBL4XoU/mmYQEvhehT+aZhAS+F6FP5pmEBL4XoU/mmYQEvhehT+aZhAS+F6FP5pmEBL4XoU/mmYQEvhehT+aZhAS+F6FP5pmEBL4XoU/mmYQEvhehT+aZhAS+F6FP5pmEBL4XoU/mmYQEvhehT+aZhAS+F6FP5pmEBL4XoU/mmYQEvhehT+aZhAS+F6FP5pmED5tcXBQiWYQA==\",\"dtype\":\"float64\",\"shape\":[53]}},\"selected\":{\"id\":\"4011\",\"type\":\"Selection\"},\"selection_policy\":{\"id\":\"4010\",\"type\":\"UnionRenderers\"}},\"id\":\"3846\",\"type\":\"ColumnDataSource\"},{\"attributes\":{\"base\":24,\"mantissas\":[1,2,4,6,8,12],\"max_interval\":43200000.0,\"min_interval\":3600000.0,\"num_minor_ticks\":0},\"id\":\"4000\",\"type\":\"AdaptiveTicker\"},{\"attributes\":{\"days\":[1,2,3,4,5,6,7,8,9,10,11,12,13,14,15,16,17,18,19,20,21,22,23,24,25,26,27,28,29,30,31]},\"id\":\"4001\",\"type\":\"DaysTicker\"},{\"attributes\":{},\"id\":\"3817\",\"type\":\"LinearScale\"},{\"attributes\":{\"dimension\":1,\"plot\":{\"id\":\"3811\",\"subtype\":\"Figure\",\"type\":\"Plot\"},\"ticker\":{\"id\":\"3827\",\"type\":\"BasicTicker\"}},\"id\":\"3830\",\"type\":\"Grid\"},{\"attributes\":{},\"id\":\"3832\",\"type\":\"WheelZoomTool\"},{\"attributes\":{\"days\":[1,15]},\"id\":\"4004\",\"type\":\"DaysTicker\"},{\"attributes\":{\"high\":1562.4981250000008,\"low\":1545.3151923076932,\"palette\":[\"#084594\",\"#2171b5\",\"#4292c6\",\"#6baed6\",\"#9ecae1\",\"#c6dbef\",\"#deebf7\",\"#f7fbff\"]},\"id\":\"3809\",\"type\":\"LinearColorMapper\"},{\"attributes\":{},\"id\":\"3831\",\"type\":\"PanTool\"},{\"attributes\":{\"formatter\":{\"id\":\"3995\",\"type\":\"DatetimeTickFormatter\"},\"plot\":{\"id\":\"3811\",\"subtype\":\"Figure\",\"type\":\"Plot\"},\"ticker\":{\"id\":\"3822\",\"type\":\"DatetimeTicker\"}},\"id\":\"3821\",\"type\":\"DatetimeAxis\"},{\"attributes\":{\"months\":[0,1,2,3,4,5,6,7,8,9,10,11]},\"id\":\"4005\",\"type\":\"MonthsTicker\"},{\"attributes\":{\"months\":[0,2,4,6,8,10]},\"id\":\"4006\",\"type\":\"MonthsTicker\"},{\"attributes\":{\"mantissas\":[1,2,5],\"max_interval\":500.0,\"num_minor_ticks\":0},\"id\":\"3998\",\"type\":\"AdaptiveTicker\"},{\"attributes\":{\"months\":[0,4,8]},\"id\":\"4007\",\"type\":\"MonthsTicker\"},{\"attributes\":{\"fill_alpha\":{\"value\":0.1},\"fill_color\":{\"value\":\"#1f77b4\"},\"line_alpha\":{\"value\":0.1},\"line_color\":{\"value\":\"#1f77b4\"},\"x\":{\"field\":\"x\"},\"y\":{\"field\":\"y\"}},\"id\":\"3848\",\"type\":\"Scatter\"},{\"attributes\":{\"plot\":null,\"text\":\"Gradient color in blue spectrum based on difference of 52 week moving average\"},\"id\":\"3810\",\"type\":\"Title\"},{\"attributes\":{\"months\":[0,6]},\"id\":\"4008\",\"type\":\"MonthsTicker\"},{\"attributes\":{\"bottom_units\":\"screen\",\"fill_alpha\":{\"value\":0.5},\"fill_color\":{\"value\":\"lightgrey\"},\"left_units\":\"screen\",\"level\":\"overlay\",\"line_alpha\":{\"value\":1.0},\"line_color\":{\"value\":\"black\"},\"line_dash\":[4,4],\"line_width\":{\"value\":2},\"plot\":null,\"render_mode\":\"css\",\"right_units\":\"screen\",\"top_units\":\"screen\"},\"id\":\"3839\",\"type\":\"BoxAnnotation\"},{\"attributes\":{\"fill_color\":{\"field\":\"y\",\"transform\":{\"id\":\"3809\",\"type\":\"LinearColorMapper\"}},\"line_color\":{\"field\":\"y\",\"transform\":{\"id\":\"3809\",\"type\":\"LinearColorMapper\"}},\"x\":{\"field\":\"x\"},\"y\":{\"field\":\"y\"}},\"id\":\"3847\",\"type\":\"Scatter\"},{\"attributes\":{},\"id\":\"4009\",\"type\":\"YearsTicker\"},{\"attributes\":{\"callback\":null},\"id\":\"3813\",\"type\":\"DataRange1d\"},{\"attributes\":{\"days\":[1,4,7,10,13,16,19,22,25,28]},\"id\":\"4002\",\"type\":\"DaysTicker\"},{\"attributes\":{},\"id\":\"4010\",\"type\":\"UnionRenderers\"},{\"attributes\":{},\"id\":\"3834\",\"type\":\"SaveTool\"},{\"attributes\":{},\"id\":\"4011\",\"type\":\"Selection\"},{\"attributes\":{},\"id\":\"3835\",\"type\":\"ResetTool\"},{\"attributes\":{},\"id\":\"3819\",\"type\":\"LinearScale\"},{\"attributes\":{},\"id\":\"3836\",\"type\":\"HelpTool\"}],\"root_ids\":[\"3811\"]},\"title\":\"Bokeh Application\",\"version\":\"1.0.4\"}};\n",
              "  var render_items = [{\"docid\":\"6fb5991f-3adc-475b-bdf0-22d6fb2dd3db\",\"roots\":{\"3811\":\"a0370171-904e-4b81-803d-808c95347ef2\"}}];\n",
              "  root.Bokeh.embed.embed_items_notebook(docs_json, render_items);\n",
              "\n",
              "  }\n",
              "  if (root.Bokeh !== undefined) {\n",
              "    embed_document(root);\n",
              "  } else {\n",
              "    var attempts = 0;\n",
              "    var timer = setInterval(function(root) {\n",
              "      if (root.Bokeh !== undefined) {\n",
              "        embed_document(root);\n",
              "        clearInterval(timer);\n",
              "      }\n",
              "      attempts++;\n",
              "      if (attempts > 100) {\n",
              "        console.log(\"Bokeh: ERROR: Unable to run BokehJS code because BokehJS library is missing\");\n",
              "        clearInterval(timer);\n",
              "      }\n",
              "    }, 10, root)\n",
              "  }\n",
              "})(window);"
            ],
            "application/vnd.bokehjs_exec.v0+json": ""
          },
          "metadata": {
            "tags": [],
            "application/vnd.bokehjs_exec.v0+json": {
              "id": "3811"
            }
          }
        }
      ]
    },
    {
      "metadata": {
        "id": "FPPX_AjOWS_m",
        "colab_type": "text"
      },
      "cell_type": "markdown",
      "source": [
        "#### Part 2.5"
      ]
    },
    {
      "metadata": {
        "id": "13bLqWi1kUc8",
        "colab_type": "code",
        "outputId": "6bc868c6-e267-478a-aa0b-2ee8c711d283",
        "colab": {
          "base_uri": "https://localhost:8080/",
          "height": 17
        }
      },
      "cell_type": "code",
      "source": [
        "p = figure(plot_width=800, plot_height=250,title='closing Pricing shock without volume shock to identify volumeless price movement', x_axis_type=\"datetime\")\n",
        "p.circle(infy.index, infy['Close']*infy['price_shock_w/o_vol_shock'])\n",
        "show(p)\n",
        "output_file(\"D.html\")"
      ],
      "execution_count": 0,
      "outputs": [
        {
          "output_type": "display_data",
          "data": {
            "text/html": [
              "\n",
              "\n",
              "\n",
              "\n",
              "\n",
              "\n",
              "  <div class=\"bk-root\" id=\"6c46a06b-4d75-4594-a0f9-8840a8bffd8d\" data-root-id=\"4839\"></div>\n"
            ]
          },
          "metadata": {
            "tags": []
          }
        },
        {
          "output_type": "display_data",
          "data": {
            "application/javascript": [
              "(function(root) {\n",
              "  function embed_document(root) {\n",
              "    \n",
              "  var docs_json = {\"214c5750-77c0-48d9-bd4e-883a048e8cb7\":{\"roots\":{\"references\":[{\"attributes\":{\"below\":[{\"id\":\"4849\",\"type\":\"DatetimeAxis\"}],\"left\":[{\"id\":\"4854\",\"type\":\"LinearAxis\"}],\"plot_height\":250,\"plot_width\":800,\"renderers\":[{\"id\":\"4849\",\"type\":\"DatetimeAxis\"},{\"id\":\"4853\",\"type\":\"Grid\"},{\"id\":\"4854\",\"type\":\"LinearAxis\"},{\"id\":\"4858\",\"type\":\"Grid\"},{\"id\":\"4867\",\"type\":\"BoxAnnotation\"},{\"id\":\"4877\",\"type\":\"GlyphRenderer\"}],\"title\":{\"id\":\"4838\",\"type\":\"Title\"},\"toolbar\":{\"id\":\"4865\",\"type\":\"Toolbar\"},\"x_range\":{\"id\":\"4841\",\"type\":\"DataRange1d\"},\"x_scale\":{\"id\":\"4845\",\"type\":\"LinearScale\"},\"y_range\":{\"id\":\"4843\",\"type\":\"DataRange1d\"},\"y_scale\":{\"id\":\"4847\",\"type\":\"LinearScale\"}},\"id\":\"4839\",\"subtype\":\"Figure\",\"type\":\"Plot\"},{\"attributes\":{\"formatter\":{\"id\":\"5063\",\"type\":\"DatetimeTickFormatter\"},\"plot\":{\"id\":\"4839\",\"subtype\":\"Figure\",\"type\":\"Plot\"},\"ticker\":{\"id\":\"4850\",\"type\":\"DatetimeTicker\"}},\"id\":\"4849\",\"type\":\"DatetimeAxis\"},{\"attributes\":{\"base\":60,\"mantissas\":[1,2,5,10,15,20,30],\"max_interval\":1800000.0,\"min_interval\":1000.0,\"num_minor_ticks\":0},\"id\":\"5067\",\"type\":\"AdaptiveTicker\"},{\"attributes\":{\"days\":[1,4,7,10,13,16,19,22,25,28]},\"id\":\"5070\",\"type\":\"DaysTicker\"},{\"attributes\":{},\"id\":\"4847\",\"type\":\"LinearScale\"},{\"attributes\":{\"source\":{\"id\":\"4874\",\"type\":\"ColumnDataSource\"}},\"id\":\"4878\",\"type\":\"CDSView\"},{\"attributes\":{\"num_minor_ticks\":5,\"tickers\":[{\"id\":\"5066\",\"type\":\"AdaptiveTicker\"},{\"id\":\"5067\",\"type\":\"AdaptiveTicker\"},{\"id\":\"5068\",\"type\":\"AdaptiveTicker\"},{\"id\":\"5069\",\"type\":\"DaysTicker\"},{\"id\":\"5070\",\"type\":\"DaysTicker\"},{\"id\":\"5071\",\"type\":\"DaysTicker\"},{\"id\":\"5072\",\"type\":\"DaysTicker\"},{\"id\":\"5073\",\"type\":\"MonthsTicker\"},{\"id\":\"5074\",\"type\":\"MonthsTicker\"},{\"id\":\"5075\",\"type\":\"MonthsTicker\"},{\"id\":\"5076\",\"type\":\"MonthsTicker\"},{\"id\":\"5077\",\"type\":\"YearsTicker\"}]},\"id\":\"4850\",\"type\":\"DatetimeTicker\"},{\"attributes\":{\"months\":[0,6]},\"id\":\"5076\",\"type\":\"MonthsTicker\"},{\"attributes\":{\"mantissas\":[1,2,5],\"max_interval\":500.0,\"num_minor_ticks\":0},\"id\":\"5066\",\"type\":\"AdaptiveTicker\"},{\"attributes\":{\"formatter\":{\"id\":\"5065\",\"type\":\"BasicTickFormatter\"},\"plot\":{\"id\":\"4839\",\"subtype\":\"Figure\",\"type\":\"Plot\"},\"ticker\":{\"id\":\"4855\",\"type\":\"BasicTicker\"}},\"id\":\"4854\",\"type\":\"LinearAxis\"},{\"attributes\":{\"callback\":null},\"id\":\"4841\",\"type\":\"DataRange1d\"},{\"attributes\":{\"months\":[0,2,4,6,8,10]},\"id\":\"5074\",\"type\":\"MonthsTicker\"},{\"attributes\":{\"plot\":{\"id\":\"4839\",\"subtype\":\"Figure\",\"type\":\"Plot\"},\"ticker\":{\"id\":\"4850\",\"type\":\"DatetimeTicker\"}},\"id\":\"4853\",\"type\":\"Grid\"},{\"attributes\":{\"callback\":null},\"id\":\"4843\",\"type\":\"DataRange1d\"},{\"attributes\":{},\"id\":\"4855\",\"type\":\"BasicTicker\"},{\"attributes\":{},\"id\":\"4859\",\"type\":\"PanTool\"},{\"attributes\":{\"active_drag\":\"auto\",\"active_inspect\":\"auto\",\"active_multi\":null,\"active_scroll\":\"auto\",\"active_tap\":\"auto\",\"tools\":[{\"id\":\"4859\",\"type\":\"PanTool\"},{\"id\":\"4860\",\"type\":\"WheelZoomTool\"},{\"id\":\"4861\",\"type\":\"BoxZoomTool\"},{\"id\":\"4862\",\"type\":\"SaveTool\"},{\"id\":\"4863\",\"type\":\"ResetTool\"},{\"id\":\"4864\",\"type\":\"HelpTool\"}]},\"id\":\"4865\",\"type\":\"Toolbar\"},{\"attributes\":{\"base\":24,\"mantissas\":[1,2,4,6,8,12],\"max_interval\":43200000.0,\"min_interval\":3600000.0,\"num_minor_ticks\":0},\"id\":\"5068\",\"type\":\"AdaptiveTicker\"},{\"attributes\":{\"months\":[0,1,2,3,4,5,6,7,8,9,10,11]},\"id\":\"5073\",\"type\":\"MonthsTicker\"},{\"attributes\":{\"dimension\":1,\"plot\":{\"id\":\"4839\",\"subtype\":\"Figure\",\"type\":\"Plot\"},\"ticker\":{\"id\":\"4855\",\"type\":\"BasicTicker\"}},\"id\":\"4858\",\"type\":\"Grid\"},{\"attributes\":{\"months\":[0,4,8]},\"id\":\"5075\",\"type\":\"MonthsTicker\"},{\"attributes\":{},\"id\":\"5079\",\"type\":\"Selection\"},{\"attributes\":{\"fill_color\":{\"value\":\"#1f77b4\"},\"line_color\":{\"value\":\"#1f77b4\"},\"x\":{\"field\":\"x\"},\"y\":{\"field\":\"y\"}},\"id\":\"4875\",\"type\":\"Circle\"},{\"attributes\":{\"days\":[1,8,15,22]},\"id\":\"5071\",\"type\":\"DaysTicker\"},{\"attributes\":{\"days\":[1,15]},\"id\":\"5072\",\"type\":\"DaysTicker\"},{\"attributes\":{},\"id\":\"4860\",\"type\":\"WheelZoomTool\"},{\"attributes\":{\"data_source\":{\"id\":\"4874\",\"type\":\"ColumnDataSource\"},\"glyph\":{\"id\":\"4875\",\"type\":\"Circle\"},\"hover_glyph\":null,\"muted_glyph\":null,\"nonselection_glyph\":{\"id\":\"4876\",\"type\":\"Circle\"},\"selection_glyph\":null,\"view\":{\"id\":\"4878\",\"type\":\"CDSView\"}},\"id\":\"4877\",\"type\":\"GlyphRenderer\"},{\"attributes\":{\"callback\":null,\"data\":{\"x\":{\"__ndarray__\":\"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\",\"dtype\":\"float64\",\"shape\":[248]},\"y\":{\"__ndarray__\":\"AAAAAAAAAAAAAAAAAAAAAAAAAAAAAAAAzczMzMyInkAAAAAAAAAAAAAAAAAAAAAAAAAAAAAAAAAAAAAAAAAAAAAAAAAAAAAAAAAAAAAAAAAAAAAAAAAAAAAAAAAAAAAAAAAAAAAAAAAAAAAAAAAAAAAAAAAAAAAAAAAAAAAAAAAAAAAAAAAAAAAAAAAAAAAAAAAAAAAAAAAAAAAAAAAAAAAAAAAAAAAAAAAAAAAAAAAAAAAAAAAAAAAAAAAAAAAAAAAAAAAAAAAAAAAAAAAAAAAAAAAAAAAAAAAAAAAAAAAAAAAAAAAAAAAAAAAAAAAAAAAAAAAAAAAAAAAAAAAAAAAAAAAAAAAAAAAAAAAAAAAAAAAAAAAAAAAAAAAAAAAAAAAAAAAAAAAAAAAAAAAAADMzMzMzpKFAAAAAAAAAAAAAAAAAAAAAAAAAAAAAAAAAAAAAAAAAAAAAAAAAAAAAAAAAAAAAAAAAAAAAAAAAAAAAAAAAAAAAAAAAAAAAAAAAAAAAAAAAAAAAAAAAAAAAAM3MzMxMtaFAAAAAAAAAAAAAAAAAAAAAAAAAAAAAAAAAAAAAAAAAAAAAAAAAAAAAAAAAAAAAAAAAAAAAAAAAAAAAAAAAAAAAAAAAAAAAAAAAAAAAAAAAAAAAAAAAAAAAAAAAAAAAAAAAAAAAAAAAAAAAAAAAAAAAAAAAAAAAAAAAAAAAAAAAAAAAAAAAAAAAAAAAAAAAAAAAAAAAAAAAAAAAAAAAAAAAAAAAAAAAAAAAAAAAAAAAAAAAAAAAAAAAAAAAAAAAAAAAAAAAAAAAAAAAAAAAAAAAAAAAAAAAAAAAAAAAAAAAAAAAAAAAAAAAAAAAAAAAAAAAZmZmZmYkn0AAAAAAAAAAAAAAAAAAAAAAAAAAAAAAAAAAAAAAAAAAAAAAAAAAAAAAAAAAAAAAAAAAAAAAAAAAAAAAAAAAAAAAAAAAAAAAAAAAAAAAAAAAAAAAAAAAAAAAAAAAAAAAAAAAAAAAAAAAAAAAAAAAAAAAAAAAAAAAAAAAAAAAAAAAAAAAAAAAAAAAAAAAAAAAAAAAAAAAAAAAAAAAAAAAAAAAAAAAAAAAAAAAAAAAAAAAAAAAAAAAAAAAAAAAAAAAAAAAAAAAAAAAAAAAAAAAAAAAAAAAAAAAAAAAAAAAAAAAAAAAAAAAAAAAmpmZmZnzjkAAAAAAAAAAAAAAAAAAAAAAAAAAAAAAAAAAAAAAAAAAAAAAAAAAAAAAAAAAAAAAAAAAAAAAAAAAAAAAAAAAAAAAAAAAAAAAAAAAAAAAAAAAAAAAAAAAAAAAAAAAAAAAAAAAAAAAAAAAAAAAAAAAAAAAAAAAAAAAAAAAAAAAAAAAAAAAAAAAAAAAAAAAAAAAAAAAAAAAAAAAAAAAAAAAAAAAAAAAAAAAAAAAAAAAAAAAAAAAAAAAAAAAAAAAAAAAAAAAAAAAAAAAAAAAAAAAAAAAAAAAAAAAAAAAAAAAAAAAAAAAAAAAAAAAAAAAAAAAAAAAAAAAAAAAAAAAAAAAAAAAAAAAAAAAAAAAAAAAAAAAAAAAAAAAAAAAAAAAAAAAAAAAAAAAAAAAAAAAAAAAAAAAAAAAAAAAAAAAAAAAAAAAAAAAAAAAAAAAAAAAAAAAAAAAAAAAAAAAAAAAAAAAAAAAAAAAAAAAAAAAAAAAAAAAAAAAAAAAAAAAAAAAAAAAAAAAAAAAAAAAAAAAAAAAAAAAAAAAAAAAAAAAAAAAAAAAAAAAAAAAAAAAAAAAAAAAAAAAAAAAAAAAAAAAAAAAAAAAAAAAAAAAAAAAAAAAAAAAAAAAAAAAAAAAAAAAAAAAAAAAAAAAAAAAAAAAAAAAAAAAAAAAAAAAAAAAAAAAAAAAAAAAAAAAAAAAAAAAAAAAAAAAAAAAAAAAAAAAAAAAAAAAAAAAAAAAAAAAAAAAAAAAAAAAAAAAAAAAAAAAAAAAAAAAAAAAAAAAAAAAAAAAAAAAzczMzMwnkkAAAAAAAAAAAAAAAAAAAAAAAAAAAAAAAAAAAAAAAAAAAAAAAAAAAAAAAAAAAAAAAAAAAAAAAAAAAAAAAAAAAAAAAAAAAAAAAAAAAAAAAAAAAAAAAAAAAAAAAAAAAAAAAAAAAAAAAAAAAAAAAAAAAAAAAAAAAAAAAAAAAAAAAAAAAAAAAAAAAAAAAAAAAAAAAAAAAAAAAAAAAAAAAAAAAAAAAAAAAAAAAAAAAAAAAAAAAAAAAAAAAAAAAAAAAAAAAAAAAAAAAAAAAAAAAAAAAAAAAAAAAAAAAAAAAAAAAAAAAAAAAAAAAAAAAAAAAAAAAAAAAAAAAAAAAAAAAAAAAAAAAAAAAAAAAAAAAAAAAAAAAAAAAAAAAAAAAAAAAAAAAAAAAAAAAAAAAAAAAAAAAAAAAAAAAAAAAAAAAAAAAAAAAAAAAAAAAAAAAAAAAAAAAAAAAAAAAAAAAAAAAAAAAAAAAAAAAAAAAAAAAAAAAAAAAAAAAAAAAAAAAAAAAAAAAAAAAAAAAAAAAAAAAAAAAAAAAAAAAAAAAAAAAAAAAAAAAAAAAAAAAAAAAAAAAAAAAAAAAAAAAAAAAAAAAAAAAAAAAAAAAAAAAAAAAAAAAAAAAAAAAAAAAAAAAAAAAAAAAAAAAAAAAAAAAA==\",\"dtype\":\"float64\",\"shape\":[248]}},\"selected\":{\"id\":\"5079\",\"type\":\"Selection\"},\"selection_policy\":{\"id\":\"5078\",\"type\":\"UnionRenderers\"}},\"id\":\"4874\",\"type\":\"ColumnDataSource\"},{\"attributes\":{},\"id\":\"5078\",\"type\":\"UnionRenderers\"},{\"attributes\":{},\"id\":\"4864\",\"type\":\"HelpTool\"},{\"attributes\":{\"fill_alpha\":{\"value\":0.1},\"fill_color\":{\"value\":\"#1f77b4\"},\"line_alpha\":{\"value\":0.1},\"line_color\":{\"value\":\"#1f77b4\"},\"x\":{\"field\":\"x\"},\"y\":{\"field\":\"y\"}},\"id\":\"4876\",\"type\":\"Circle\"},{\"attributes\":{},\"id\":\"5063\",\"type\":\"DatetimeTickFormatter\"},{\"attributes\":{\"bottom_units\":\"screen\",\"fill_alpha\":{\"value\":0.5},\"fill_color\":{\"value\":\"lightgrey\"},\"left_units\":\"screen\",\"level\":\"overlay\",\"line_alpha\":{\"value\":1.0},\"line_color\":{\"value\":\"black\"},\"line_dash\":[4,4],\"line_width\":{\"value\":2},\"plot\":null,\"render_mode\":\"css\",\"right_units\":\"screen\",\"top_units\":\"screen\"},\"id\":\"4867\",\"type\":\"BoxAnnotation\"},{\"attributes\":{\"days\":[1,2,3,4,5,6,7,8,9,10,11,12,13,14,15,16,17,18,19,20,21,22,23,24,25,26,27,28,29,30,31]},\"id\":\"5069\",\"type\":\"DaysTicker\"},{\"attributes\":{\"plot\":null,\"text\":\"closing Pricing shock without volume shock to identify volumeless price movement\"},\"id\":\"4838\",\"type\":\"Title\"},{\"attributes\":{},\"id\":\"4845\",\"type\":\"LinearScale\"},{\"attributes\":{\"overlay\":{\"id\":\"4867\",\"type\":\"BoxAnnotation\"}},\"id\":\"4861\",\"type\":\"BoxZoomTool\"},{\"attributes\":{},\"id\":\"4863\",\"type\":\"ResetTool\"},{\"attributes\":{},\"id\":\"5065\",\"type\":\"BasicTickFormatter\"},{\"attributes\":{},\"id\":\"5077\",\"type\":\"YearsTicker\"},{\"attributes\":{},\"id\":\"4862\",\"type\":\"SaveTool\"}],\"root_ids\":[\"4839\"]},\"title\":\"Bokeh Application\",\"version\":\"1.0.4\"}};\n",
              "  var render_items = [{\"docid\":\"214c5750-77c0-48d9-bd4e-883a048e8cb7\",\"roots\":{\"4839\":\"6c46a06b-4d75-4594-a0f9-8840a8bffd8d\"}}];\n",
              "  root.Bokeh.embed.embed_items_notebook(docs_json, render_items);\n",
              "\n",
              "  }\n",
              "  if (root.Bokeh !== undefined) {\n",
              "    embed_document(root);\n",
              "  } else {\n",
              "    var attempts = 0;\n",
              "    var timer = setInterval(function(root) {\n",
              "      if (root.Bokeh !== undefined) {\n",
              "        embed_document(root);\n",
              "        clearInterval(timer);\n",
              "      }\n",
              "      attempts++;\n",
              "      if (attempts > 100) {\n",
              "        console.log(\"Bokeh: ERROR: Unable to run BokehJS code because BokehJS library is missing\");\n",
              "        clearInterval(timer);\n",
              "      }\n",
              "    }, 10, root)\n",
              "  }\n",
              "})(window);"
            ],
            "application/vnd.bokehjs_exec.v0+json": ""
          },
          "metadata": {
            "tags": [],
            "application/vnd.bokehjs_exec.v0+json": {
              "id": "4839"
            }
          }
        }
      ]
    },
    {
      "metadata": {
        "id": "raq_3H8nWVTd",
        "colab_type": "text"
      },
      "cell_type": "markdown",
      "source": [
        "#### Part 2.6"
      ]
    },
    {
      "metadata": {
        "id": "B6AlB6MOsb0p",
        "colab_type": "code",
        "outputId": "cbc79cdb-1ec1-48a8-fb49-35120bfb91f2",
        "colab": {
          "base_uri": "https://localhost:8080/",
          "height": 34
        }
      },
      "cell_type": "code",
      "source": [
        "from statsmodels.tsa.stattools import pacf\n",
        "\n",
        "lags = 100\n",
        "x = list(range(lags))\n",
        "p = figure(plot_height=200, title='partial autocorrelation plot for each stock/index')\n",
        "partial_autocorr = pacf(infy[\"Close\"], nlags=lags)\n",
        "p.vbar(x=x, top=partial_autocorr, width=0.9)\n",
        "show(p)\n",
        "output_file(\"E.html\")"
      ],
      "execution_count": 0,
      "outputs": [
        {
          "output_type": "stream",
          "text": [
            "BokehUserWarning: ColumnDataSource's columns must be of the same length. Current lengths: ('top', 101), ('x', 100)\n"
          ],
          "name": "stderr"
        },
        {
          "output_type": "display_data",
          "data": {
            "text/html": [
              "\n",
              "\n",
              "\n",
              "\n",
              "\n",
              "\n",
              "  <div class=\"bk-root\" id=\"93b88dfd-31e8-41b2-9416-5eed9a9f51eb\" data-root-id=\"5755\"></div>\n"
            ]
          },
          "metadata": {
            "tags": []
          }
        },
        {
          "output_type": "display_data",
          "data": {
            "application/javascript": [
              "(function(root) {\n",
              "  function embed_document(root) {\n",
              "    \n",
              "  var docs_json = {\"611ddfda-0bf6-4e06-973e-a44650c46782\":{\"roots\":{\"references\":[{\"attributes\":{\"below\":[{\"id\":\"5765\",\"type\":\"LinearAxis\"}],\"left\":[{\"id\":\"5770\",\"type\":\"LinearAxis\"}],\"plot_height\":200,\"renderers\":[{\"id\":\"5765\",\"type\":\"LinearAxis\"},{\"id\":\"5769\",\"type\":\"Grid\"},{\"id\":\"5770\",\"type\":\"LinearAxis\"},{\"id\":\"5774\",\"type\":\"Grid\"},{\"id\":\"5783\",\"type\":\"BoxAnnotation\"},{\"id\":\"5793\",\"type\":\"GlyphRenderer\"}],\"title\":{\"id\":\"5754\",\"type\":\"Title\"},\"toolbar\":{\"id\":\"5781\",\"type\":\"Toolbar\"},\"x_range\":{\"id\":\"5757\",\"type\":\"DataRange1d\"},\"x_scale\":{\"id\":\"5761\",\"type\":\"LinearScale\"},\"y_range\":{\"id\":\"5759\",\"type\":\"DataRange1d\"},\"y_scale\":{\"id\":\"5763\",\"type\":\"LinearScale\"}},\"id\":\"5755\",\"subtype\":\"Figure\",\"type\":\"Plot\"},{\"attributes\":{\"formatter\":{\"id\":\"6007\",\"type\":\"BasicTickFormatter\"},\"plot\":{\"id\":\"5755\",\"subtype\":\"Figure\",\"type\":\"Plot\"},\"ticker\":{\"id\":\"5766\",\"type\":\"BasicTicker\"}},\"id\":\"5765\",\"type\":\"LinearAxis\"},{\"attributes\":{},\"id\":\"5780\",\"type\":\"HelpTool\"},{\"attributes\":{},\"id\":\"5766\",\"type\":\"BasicTicker\"},{\"attributes\":{\"bottom_units\":\"screen\",\"fill_alpha\":{\"value\":0.5},\"fill_color\":{\"value\":\"lightgrey\"},\"left_units\":\"screen\",\"level\":\"overlay\",\"line_alpha\":{\"value\":1.0},\"line_color\":{\"value\":\"black\"},\"line_dash\":[4,4],\"line_width\":{\"value\":2},\"plot\":null,\"render_mode\":\"css\",\"right_units\":\"screen\",\"top_units\":\"screen\"},\"id\":\"5783\",\"type\":\"BoxAnnotation\"},{\"attributes\":{\"plot\":{\"id\":\"5755\",\"subtype\":\"Figure\",\"type\":\"Plot\"},\"ticker\":{\"id\":\"5766\",\"type\":\"BasicTicker\"}},\"id\":\"5769\",\"type\":\"Grid\"},{\"attributes\":{},\"id\":\"5778\",\"type\":\"SaveTool\"},{\"attributes\":{},\"id\":\"5763\",\"type\":\"LinearScale\"},{\"attributes\":{\"formatter\":{\"id\":\"6009\",\"type\":\"BasicTickFormatter\"},\"plot\":{\"id\":\"5755\",\"subtype\":\"Figure\",\"type\":\"Plot\"},\"ticker\":{\"id\":\"5771\",\"type\":\"BasicTicker\"}},\"id\":\"5770\",\"type\":\"LinearAxis\"},{\"attributes\":{\"callback\":null},\"id\":\"5757\",\"type\":\"DataRange1d\"},{\"attributes\":{\"fill_alpha\":{\"value\":0.1},\"fill_color\":{\"value\":\"#1f77b4\"},\"line_alpha\":{\"value\":0.1},\"line_color\":{\"value\":\"#1f77b4\"},\"top\":{\"field\":\"top\"},\"width\":{\"value\":0.9},\"x\":{\"field\":\"x\"}},\"id\":\"5792\",\"type\":\"VBar\"},{\"attributes\":{\"data_source\":{\"id\":\"5790\",\"type\":\"ColumnDataSource\"},\"glyph\":{\"id\":\"5791\",\"type\":\"VBar\"},\"hover_glyph\":null,\"muted_glyph\":null,\"nonselection_glyph\":{\"id\":\"5792\",\"type\":\"VBar\"},\"selection_glyph\":null,\"view\":{\"id\":\"5794\",\"type\":\"CDSView\"}},\"id\":\"5793\",\"type\":\"GlyphRenderer\"},{\"attributes\":{},\"id\":\"6009\",\"type\":\"BasicTickFormatter\"},{\"attributes\":{},\"id\":\"5779\",\"type\":\"ResetTool\"},{\"attributes\":{},\"id\":\"6007\",\"type\":\"BasicTickFormatter\"},{\"attributes\":{\"source\":{\"id\":\"5790\",\"type\":\"ColumnDataSource\"}},\"id\":\"5794\",\"type\":\"CDSView\"},{\"attributes\":{},\"id\":\"5771\",\"type\":\"BasicTicker\"},{\"attributes\":{\"active_drag\":\"auto\",\"active_inspect\":\"auto\",\"active_multi\":null,\"active_scroll\":\"auto\",\"active_tap\":\"auto\",\"tools\":[{\"id\":\"5775\",\"type\":\"PanTool\"},{\"id\":\"5776\",\"type\":\"WheelZoomTool\"},{\"id\":\"5777\",\"type\":\"BoxZoomTool\"},{\"id\":\"5778\",\"type\":\"SaveTool\"},{\"id\":\"5779\",\"type\":\"ResetTool\"},{\"id\":\"5780\",\"type\":\"HelpTool\"}]},\"id\":\"5781\",\"type\":\"Toolbar\"},{\"attributes\":{},\"id\":\"6011\",\"type\":\"Selection\"},{\"attributes\":{},\"id\":\"5775\",\"type\":\"PanTool\"},{\"attributes\":{},\"id\":\"5776\",\"type\":\"WheelZoomTool\"},{\"attributes\":{\"dimension\":1,\"plot\":{\"id\":\"5755\",\"subtype\":\"Figure\",\"type\":\"Plot\"},\"ticker\":{\"id\":\"5771\",\"type\":\"BasicTicker\"}},\"id\":\"5774\",\"type\":\"Grid\"},{\"attributes\":{},\"id\":\"6010\",\"type\":\"UnionRenderers\"},{\"attributes\":{\"callback\":null},\"id\":\"5759\",\"type\":\"DataRange1d\"},{\"attributes\":{\"callback\":null,\"data\":{\"top\":{\"__ndarray__\":\"AAAAAAAA8D/Iw2K0RsfvP9irulGdrKe/QMoKptvtmL8/e4ZGDjOzP1if62NPRKm/77e24y9AgT8KU4KwPFe5v+ryQaB4zpS/6LJ1SDyfkj826dDvb26xv6ZlDDsXAJY/yzBePFhNj78XZnibRj6yP9HWumBQgri/krvWqi94qb9GfN7Mi0eov7DnTW7ZCYa/GcSAqyIHPD8O94Uymi2kvyv2ZoO1TqQ/OtXE8aXipz+X8EVg26KoP/u9h15pwIM/f2FjG3m6nr/nFluZWCyqvwbzRsV15I2/jXxbp8w8vz+dSew87OSsv/lDZ98TKqy/TmmkKV+SpL8MAg9hLXWwP4rixlOrW5W/3b1DJmnikL8ZKzTc/EKwv5UB6+AE1pi/MuXRX6Xxwr/Pp7fHfoO2vx0qMc+xNKA/i+9btI/GoT98s2l2tsCxv7Ksvt8b/7O/TzC47I0HjD/EDk4MY0miP9g6f5p2JYs/JYWgqnz5jb/eFMH8mCSKPySbqT0djLs/NkzRw5GJlb/oC5saSWmwvzJBW5g0Gqy//l156PH5wL/HXjpqoWiXP58JR7L5RqA/t5i2IOJ0wr/7E9NtGUugP9Bgd9hhk6q/HsuEf+cZq78Iwp8ybuCmP6ZEinVsQaE/X3DAiArPwL+4aUlYZjvBv1/COXtDZZQ/3Z/XyEbvpj8PnmNrWeizP8+532gNRag/UiQgy3sEtb+vMRiOWZ/Av/3++FEFE7e/xULYFenWmL8rAjL+HCuWP8lGDjA6pKm/z5XFqXVngT+2At1teOC0P6sXswA9TcW/RCJr9f7Suz+9DxfcNSyvP8zGN6/mHZq/hFTalmvrqr9Y899OoiOiv9eKQXEnwam/isxqfCqju78aYF6BlHKDv1Cg/X5zKXA/JeUJNioLoL8OU4u3/JCmP+2l5MxplsK/OZYA6fiAor+tR5rnifDAP2HFUK/XDrU/iFMtrDOXrD+TtcIu/+aqv3PUrv669MO/sBlAFOHAt7+6MfKDT0i5vx58aB8Av9C/pQAbQ9XLlD/4dTeU6WSNP8ncp9nBuaI/fZ26VYGWhz/b43JJzQfQvw==\",\"dtype\":\"float64\",\"shape\":[101]},\"x\":[0,1,2,3,4,5,6,7,8,9,10,11,12,13,14,15,16,17,18,19,20,21,22,23,24,25,26,27,28,29,30,31,32,33,34,35,36,37,38,39,40,41,42,43,44,45,46,47,48,49,50,51,52,53,54,55,56,57,58,59,60,61,62,63,64,65,66,67,68,69,70,71,72,73,74,75,76,77,78,79,80,81,82,83,84,85,86,87,88,89,90,91,92,93,94,95,96,97,98,99]},\"selected\":{\"id\":\"6011\",\"type\":\"Selection\"},\"selection_policy\":{\"id\":\"6010\",\"type\":\"UnionRenderers\"}},\"id\":\"5790\",\"type\":\"ColumnDataSource\"},{\"attributes\":{\"plot\":null,\"text\":\"partial autocorrelation plot for each stock/index\"},\"id\":\"5754\",\"type\":\"Title\"},{\"attributes\":{},\"id\":\"5761\",\"type\":\"LinearScale\"},{\"attributes\":{\"fill_color\":{\"value\":\"#1f77b4\"},\"line_color\":{\"value\":\"#1f77b4\"},\"top\":{\"field\":\"top\"},\"width\":{\"value\":0.9},\"x\":{\"field\":\"x\"}},\"id\":\"5791\",\"type\":\"VBar\"},{\"attributes\":{\"overlay\":{\"id\":\"5783\",\"type\":\"BoxAnnotation\"}},\"id\":\"5777\",\"type\":\"BoxZoomTool\"}],\"root_ids\":[\"5755\"]},\"title\":\"Bokeh Application\",\"version\":\"1.0.4\"}};\n",
              "  var render_items = [{\"docid\":\"611ddfda-0bf6-4e06-973e-a44650c46782\",\"roots\":{\"5755\":\"93b88dfd-31e8-41b2-9416-5eed9a9f51eb\"}}];\n",
              "  root.Bokeh.embed.embed_items_notebook(docs_json, render_items);\n",
              "\n",
              "  }\n",
              "  if (root.Bokeh !== undefined) {\n",
              "    embed_document(root);\n",
              "  } else {\n",
              "    var attempts = 0;\n",
              "    var timer = setInterval(function(root) {\n",
              "      if (root.Bokeh !== undefined) {\n",
              "        embed_document(root);\n",
              "        clearInterval(timer);\n",
              "      }\n",
              "      attempts++;\n",
              "      if (attempts > 100) {\n",
              "        console.log(\"Bokeh: ERROR: Unable to run BokehJS code because BokehJS library is missing\");\n",
              "        clearInterval(timer);\n",
              "      }\n",
              "    }, 10, root)\n",
              "  }\n",
              "})(window);"
            ],
            "application/vnd.bokehjs_exec.v0+json": ""
          },
          "metadata": {
            "tags": [],
            "application/vnd.bokehjs_exec.v0+json": {
              "id": "5755"
            }
          }
        }
      ]
    },
    {
      "metadata": {
        "id": "URwgKNSUf4py",
        "colab_type": "code",
        "colab": {}
      },
      "cell_type": "code",
      "source": [
        "from google.colab import files\n",
        "files.download(\"E.html\")"
      ],
      "execution_count": 0,
      "outputs": []
    },
    {
      "metadata": {
        "id": "aJP85DOYZk5c",
        "colab_type": "text"
      },
      "cell_type": "markdown",
      "source": [
        ""
      ]
    }
  ]
}